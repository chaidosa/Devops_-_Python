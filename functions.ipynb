{
  "nbformat": 4,
  "nbformat_minor": 0,
  "metadata": {
    "colab": {
      "name": "functions.ipynb",
      "provenance": [],
      "authorship_tag": "ABX9TyN1aIHPDMmhXxkk6ISJBHHG",
      "include_colab_link": true
    },
    "kernelspec": {
      "name": "python3",
      "display_name": "Python 3"
    },
    "language_info": {
      "name": "python"
    }
  },
  "cells": [
    {
      "cell_type": "markdown",
      "metadata": {
        "id": "view-in-github",
        "colab_type": "text"
      },
      "source": [
        "<a href=\"https://colab.research.google.com/github/priteshvermaa/Devops_-_Python/blob/master/functions.ipynb\" target=\"_parent\"><img src=\"https://colab.research.google.com/assets/colab-badge.svg\" alt=\"Open In Colab\"/></a>"
      ]
    },
    {
      "cell_type": "markdown",
      "source": [
        "#**Python functions**\n",
        "\n",
        "Function is a groupp of related statements that perform a specific task.\n",
        "\n",
        "Function help break out program into smaller and modular chunks. As our program grows larger and larger, functions make it more organized and manageable.\n",
        "\n",
        "it avoids repetition and makes code reusable.\n"
      ],
      "metadata": {
        "id": "kJOVTh1KkftC"
      }
    },
    {
      "cell_type": "code",
      "execution_count": null,
      "metadata": {
        "id": "vyhb6SUQkUCL"
      },
      "outputs": [],
      "source": [
        "def print_name(name):\n",
        "  \"\"\"\n",
        "  This function prints the name\n",
        "  \"\"\"\n",
        "  print(\"Kon'nichiwa \" + str(name))"
      ]
    },
    {
      "cell_type": "code",
      "source": [
        "# Funtion call:\n",
        "#       Once we have defined a funciton, we can call it from anywhere\n",
        "print_name(\"Nikhil\") #calling out function"
      ],
      "metadata": {
        "colab": {
          "base_uri": "https://localhost:8080/"
        },
        "id": "x4yE5_8Jlsxp",
        "outputId": "f808bf78-de33-42df-e35b-b408e0a98ca0"
      },
      "execution_count": null,
      "outputs": [
        {
          "output_type": "stream",
          "name": "stdout",
          "text": [
            "Kon'nichiwa Nikhil\n"
          ]
        }
      ]
    },
    {
      "cell_type": "code",
      "source": [
        "# Doc String:\n",
        "# The first string after the function header is called the docstring and is short for \n",
        "# documentation string. Although optional, documentation is a good programming practice, always\n",
        "# document your code Doc string will be written in triple quotes so that docstring can extend up to\n",
        "# multiple lines\n",
        "\n",
        "print(print_name.__doc__) # print doc string of the function"
      ],
      "metadata": {
        "colab": {
          "base_uri": "https://localhost:8080/"
        },
        "id": "7SrYKBovl0kP",
        "outputId": "45df5ae1-524c-4c3c-8ffc-2c5a1f7628f9"
      },
      "execution_count": null,
      "outputs": [
        {
          "output_type": "stream",
          "name": "stdout",
          "text": [
            "\n",
            "  This function prints the name\n",
            "  \n"
          ]
        }
      ]
    },
    {
      "cell_type": "code",
      "source": [
        "#return statement:\n",
        "#   The return statement is used to exit a function and go back to the place from where it was called.\n",
        "#   return statements are optional , python returns none by default\n"
      ],
      "metadata": {
        "id": "U8mwkFSnmiCp"
      },
      "execution_count": null,
      "outputs": []
    },
    {
      "cell_type": "code",
      "source": [
        "def get_sums(lst):\n",
        "  \"\"\"\n",
        "  This function returns the sum of all the elements in the list\n",
        "  \"\"\"\n",
        "  #initialize sum\n",
        "  _sum = 0;\n",
        "\n",
        "  #iterating over the list\n",
        "  for num in lst:\n",
        "    _sum += num\n",
        "  return _sum"
      ],
      "metadata": {
        "id": "AeLYMFDInfM4"
      },
      "execution_count": null,
      "outputs": []
    },
    {
      "cell_type": "code",
      "source": [
        "s = get_sums([1, 2, 3, 4])\n",
        "print(s)"
      ],
      "metadata": {
        "colab": {
          "base_uri": "https://localhost:8080/"
        },
        "id": "8TPGus2tn378",
        "outputId": "e622c3d8-7acf-4bee-a2cf-4c136fdff291"
      },
      "execution_count": null,
      "outputs": [
        {
          "output_type": "stream",
          "name": "stdout",
          "text": [
            "10\n"
          ]
        }
      ]
    },
    {
      "cell_type": "code",
      "source": [
        "# SCOPE AND LIFE TIME OF VARIABLES:\n",
        "#     Scope of a variable is the portion of a program where the variable is recognized.\n",
        "#     variable defined inside a function is not visible from outside, Hence they have a local scope\n",
        "#     Lifetime of a variable is the period throughout which the varaible exists in the memory.\n",
        "#     The lifetime of variables inside a function is as long as the function executes.\n",
        "#     variables are destroyed once we return from the function "
      ],
      "metadata": {
        "id": "AriaNZkuoXsL"
      },
      "execution_count": null,
      "outputs": []
    },
    {
      "cell_type": "code",
      "source": [
        "global_var = \"This is a global variable\"\n",
        "\n",
        "def test_life_time():\n",
        "  \"\"\"\n",
        "  This function test the life time of a variable \n",
        "  \"\"\"\n",
        "  local_var = \"This is local variable\"\n",
        "  print(local_var) # print local variable\n",
        "\n",
        "  print(global_var) #print global variable\n",
        "\n",
        "\n",
        "#calling function\n",
        "test_life_time()\n",
        "\n",
        "#print global variable\n",
        "print(global_var)\n",
        "\n",
        "#print local variable local_var\n",
        "print(local_var) #this will throw NameError"
      ],
      "metadata": {
        "colab": {
          "base_uri": "https://localhost:8080/",
          "height": 252
        },
        "id": "yjWYpkViqRiD",
        "outputId": "44bfc35e-8c47-4a3b-e2ea-7485ed4cdd2c"
      },
      "execution_count": null,
      "outputs": [
        {
          "output_type": "stream",
          "name": "stdout",
          "text": [
            "This is local variable\n",
            "This is a global variable\n",
            "This is a global variable\n"
          ]
        },
        {
          "output_type": "error",
          "ename": "NameError",
          "evalue": "ignored",
          "traceback": [
            "\u001b[0;31m---------------------------------------------------------------------------\u001b[0m",
            "\u001b[0;31mNameError\u001b[0m                                 Traceback (most recent call last)",
            "\u001b[0;32m<ipython-input-26-8f4722e9a15b>\u001b[0m in \u001b[0;36m<module>\u001b[0;34m()\u001b[0m\n\u001b[1;32m     18\u001b[0m \u001b[0;34m\u001b[0m\u001b[0m\n\u001b[1;32m     19\u001b[0m \u001b[0;31m#print local variable local_var\u001b[0m\u001b[0;34m\u001b[0m\u001b[0;34m\u001b[0m\u001b[0;34m\u001b[0m\u001b[0m\n\u001b[0;32m---> 20\u001b[0;31m \u001b[0mprint\u001b[0m\u001b[0;34m(\u001b[0m\u001b[0mlocal_var\u001b[0m\u001b[0;34m)\u001b[0m \u001b[0;31m#this will throw NameError\u001b[0m\u001b[0;34m\u001b[0m\u001b[0;34m\u001b[0m\u001b[0m\n\u001b[0m",
            "\u001b[0;31mNameError\u001b[0m: name 'local_var' is not defined"
          ]
        }
      ]
    },
    {
      "cell_type": "code",
      "source": [
        "# Python program to print Highest common factor of two numbers\n",
        "\n",
        "def computeHCF(a, b):\n",
        "  \"\"\"\n",
        "  Computing HCF of two numbers\n",
        "  \"\"\"\n",
        "  smaller = b if a > b else a \n",
        "\n",
        "  hcf = 1\n",
        "  for i in range(1, smaller + 1):\n",
        "    if(a % i == 0) and (b % i == 0):\n",
        "      hcf = i\n",
        "  return hcf\n",
        "\n",
        "num1 = 98\n",
        "num2 = 78\n",
        "\n",
        "print(\"HCF of {0} and {1} is: {2}\".format(num1, num2, computeHCF(num1, num2)))"
      ],
      "metadata": {
        "colab": {
          "base_uri": "https://localhost:8080/"
        },
        "id": "RFaiKRcjrGWU",
        "outputId": "f98b1f18-49e7-4f59-ba7a-44a2fa31af6c"
      },
      "execution_count": null,
      "outputs": [
        {
          "output_type": "stream",
          "name": "stdout",
          "text": [
            "HCF of 98 and 78 is: 2\n"
          ]
        }
      ]
    },
    {
      "cell_type": "code",
      "source": [
        "# TYPES OF FUNCION:\n",
        "#     1. Buit-in function\n",
        "#      2. User defined"
      ],
      "metadata": {
        "id": "ET5ubpBpsNmT"
      },
      "execution_count": null,
      "outputs": []
    },
    {
      "cell_type": "code",
      "source": [
        "num  = -200\n",
        "print(abs(num))"
      ],
      "metadata": {
        "colab": {
          "base_uri": "https://localhost:8080/"
        },
        "id": "78W9rfKzsqO7",
        "outputId": "044d2b05-d661-4873-cc97-9187eb12123f"
      },
      "execution_count": null,
      "outputs": [
        {
          "output_type": "stream",
          "name": "stdout",
          "text": [
            "200\n"
          ]
        }
      ]
    },
    {
      "cell_type": "code",
      "source": [
        "# all() -> True : if all elements in an iterable(data structure on which one can iterate) are true\n",
        "#          False: if any element in an iterable is false"
      ],
      "metadata": {
        "id": "Aj6HOY4ksx0J"
      },
      "execution_count": null,
      "outputs": []
    },
    {
      "cell_type": "markdown",
      "source": [
        ""
      ],
      "metadata": {
        "id": "4cG8KZKBtcEq"
      }
    },
    {
      "cell_type": "code",
      "source": [
        "lst = [1, 2, 3, 4]\n",
        "print(all(lst))"
      ],
      "metadata": {
        "colab": {
          "base_uri": "https://localhost:8080/"
        },
        "id": "asIzW83etNXh",
        "outputId": "234dda21-e8f1-4039-bb21-64b74a49add5"
      },
      "execution_count": null,
      "outputs": [
        {
          "output_type": "stream",
          "name": "stdout",
          "text": [
            "True\n"
          ]
        }
      ]
    },
    {
      "cell_type": "code",
      "source": [
        "lst = (0, 2, 3, 4)\n",
        "print(all(lst)) # 0 present in list"
      ],
      "metadata": {
        "colab": {
          "base_uri": "https://localhost:8080/"
        },
        "id": "yBH7ltpAtQ-s",
        "outputId": "410d390e-07a3-4b5d-a623-eb91b342c9af"
      },
      "execution_count": null,
      "outputs": [
        {
          "output_type": "stream",
          "name": "stdout",
          "text": [
            "False\n"
          ]
        }
      ]
    },
    {
      "cell_type": "code",
      "source": [
        "lst = [False, 1, 2] #false present int the list so all(lst) is False\n",
        "print(all(lst))\n"
      ],
      "metadata": {
        "colab": {
          "base_uri": "https://localhost:8080/"
        },
        "id": "up1o1zN9tXDv",
        "outputId": "71cc241f-c9f1-4c07-e77c-34d9bdbb11ea"
      },
      "execution_count": null,
      "outputs": [
        {
          "output_type": "stream",
          "name": "stdout",
          "text": [
            "False\n"
          ]
        }
      ]
    },
    {
      "cell_type": "code",
      "source": [
        "lst = []  #empty list is always true {This is the way all is defined}\n",
        "print(all(lst))"
      ],
      "metadata": {
        "colab": {
          "base_uri": "https://localhost:8080/"
        },
        "id": "TGPBgXCat1-h",
        "outputId": "aa5d331d-90fd-4f2a-ae4e-fcf4062926ad"
      },
      "execution_count": null,
      "outputs": [
        {
          "output_type": "stream",
          "name": "stdout",
          "text": [
            "True\n"
          ]
        }
      ]
    },
    {
      "cell_type": "code",
      "source": [
        "# dir(): -> The dir() tries to return a list of valid attributes of the object\n",
        "# If the object has dir() method, the method will be called and must return the list of attributed.\n",
        "\n",
        "numbers = [1, 2, 3]\n",
        "\n",
        "print(dir(numbers))"
      ],
      "metadata": {
        "colab": {
          "base_uri": "https://localhost:8080/"
        },
        "id": "UAxGXYCyudVq",
        "outputId": "6fef0a8f-3b38-497f-f759-006b4ad3ec87"
      },
      "execution_count": null,
      "outputs": [
        {
          "output_type": "stream",
          "name": "stdout",
          "text": [
            "['__add__', '__class__', '__contains__', '__delattr__', '__delitem__', '__dir__', '__doc__', '__eq__', '__format__', '__ge__', '__getattribute__', '__getitem__', '__gt__', '__hash__', '__iadd__', '__imul__', '__init__', '__init_subclass__', '__iter__', '__le__', '__len__', '__lt__', '__mul__', '__ne__', '__new__', '__reduce__', '__reduce_ex__', '__repr__', '__reversed__', '__rmul__', '__setattr__', '__setitem__', '__sizeof__', '__str__', '__subclasshook__', 'append', 'clear', 'copy', 'count', 'extend', 'index', 'insert', 'pop', 'remove', 'reverse', 'sort']\n"
          ]
        }
      ]
    },
    {
      "cell_type": "code",
      "source": [
        "#divmod():-> It takes two numbers and return pair of numbers (a tuple) consisting of their\n",
        "# quotient and remainder\n",
        "\n",
        "print(divmod(22, 4))"
      ],
      "metadata": {
        "colab": {
          "base_uri": "https://localhost:8080/"
        },
        "id": "0TNJ6ieMvFt1",
        "outputId": "5378b8ca-0007-4618-9268-259d08527721"
      },
      "execution_count": null,
      "outputs": [
        {
          "output_type": "stream",
          "name": "stdout",
          "text": [
            "(5, 2)\n"
          ]
        }
      ]
    },
    {
      "cell_type": "code",
      "source": [
        "#enumerate(): -> It adds counter to an iterable and returns it \n",
        "# syntax: enumerate(iterable, start = 0)\n",
        "\n",
        "numbers = [10, 20, 30, 40]\n",
        "\n",
        "for index, num in enumerate(numbers):\n",
        "  print(\"index {0} has value {1}\".format(index, num))\n",
        "\n",
        "print(\"If we put arguments\")\n",
        "for index, num in enumerate(numbers, 5):\n",
        "  print(\"index {0} has value {1}\".format(index, num))"
      ],
      "metadata": {
        "colab": {
          "base_uri": "https://localhost:8080/"
        },
        "id": "achfi03MvZLe",
        "outputId": "fa1ffb21-b6a7-41cc-939d-bf0c385e230c"
      },
      "execution_count": null,
      "outputs": [
        {
          "output_type": "stream",
          "name": "stdout",
          "text": [
            "index 0 has value 10\n",
            "index 1 has value 20\n",
            "index 2 has value 30\n",
            "index 3 has value 40\n",
            "If we put arguments\n",
            "index 5 has value 10\n",
            "index 6 has value 20\n",
            "index 7 has value 30\n",
            "index 8 has value 40\n"
          ]
        }
      ]
    },
    {
      "cell_type": "code",
      "source": [
        "# filter() -> this method constructs an iterator from element of an iterable for which a function returns true.\n",
        "\n",
        "def find_positive_num(num):\n",
        "  \"\"\"\n",
        "  This function returns the positive number if num is positive\n",
        "  \"\"\"\n",
        "  if num > 0:\n",
        "    return num\n"
      ],
      "metadata": {
        "id": "1ZXnOCAAv-Jm"
      },
      "execution_count": null,
      "outputs": []
    },
    {
      "cell_type": "code",
      "source": [
        "number_list = list(range(-10, 10)) # create a list with numbers from -10 to 10\n",
        "\n",
        "print(number_list)\n",
        "\n",
        "positive_num_list = list(filter(find_positive_num, number_list))\n",
        "print(positive_num_list)"
      ],
      "metadata": {
        "colab": {
          "base_uri": "https://localhost:8080/"
        },
        "id": "4DWloSesxYsR",
        "outputId": "a027c4ba-a3bf-487d-959c-2f7b3cac26f9"
      },
      "execution_count": null,
      "outputs": [
        {
          "output_type": "stream",
          "name": "stdout",
          "text": [
            "[-10, -9, -8, -7, -6, -5, -4, -3, -2, -1, 0, 1, 2, 3, 4, 5, 6, 7, 8, 9]\n",
            "[1, 2, 3, 4, 5, 6, 7, 8, 9]\n"
          ]
        }
      ]
    },
    {
      "cell_type": "code",
      "source": [
        "# isinstance(): -> The isinstance() function checks if the object (first argument) is an instance or\n",
        "#subclass of classinfo class (second argument).\n",
        "\n",
        "#syntax: isinstance(object, classinfo)\n",
        "\n",
        "lst = [1, 2, 3, 4]\n",
        "print(isinstance(lst, list))\n",
        "\n",
        "#try with other datatypes tuple\n",
        "t = (1, 2, 3, 4)\n",
        "print(isinstance(t, list))\n"
      ],
      "metadata": {
        "colab": {
          "base_uri": "https://localhost:8080/"
        },
        "id": "uGUIy17LxwYy",
        "outputId": "1e568b59-b8a7-44ae-b05e-b1dcfadfdc85"
      },
      "execution_count": null,
      "outputs": [
        {
          "output_type": "stream",
          "name": "stdout",
          "text": [
            "True\n",
            "False\n"
          ]
        }
      ]
    },
    {
      "cell_type": "code",
      "source": [
        "# map():-> Map applies a function to all the items in an input_list.\n",
        "numbers = [1, 2, 3, 4]\n",
        "\n",
        "#normal method of computing num^2 for each element in the list\n",
        "\n",
        "squared = []\n",
        "for num in numbers:\n",
        "  squared.append(num ** 2)\n",
        "\n",
        "print(squared)"
      ],
      "metadata": {
        "colab": {
          "base_uri": "https://localhost:8080/"
        },
        "id": "vk1KQrg6zA74",
        "outputId": "9e0c1de9-1e47-49a3-8cd7-a189785ce013"
      },
      "execution_count": null,
      "outputs": [
        {
          "output_type": "stream",
          "name": "stdout",
          "text": [
            "[1, 4, 9, 16]\n"
          ]
        }
      ]
    },
    {
      "cell_type": "code",
      "source": [
        "numbers = [1, 2, 3, 4]\n",
        "\n",
        "def powerofTwo(num):\n",
        "  return num ** 2\n",
        "\n",
        "#using map() function\n",
        "squared = list(map(powerofTwo, numbers))\n",
        "print(squared)"
      ],
      "metadata": {
        "colab": {
          "base_uri": "https://localhost:8080/"
        },
        "id": "VVx_5EJ10Oqi",
        "outputId": "8e23459d-8d43-4e64-e648-a7cf70977d7b"
      },
      "execution_count": null,
      "outputs": [
        {
          "output_type": "stream",
          "name": "stdout",
          "text": [
            "[1, 4, 9, 16]\n"
          ]
        }
      ]
    },
    {
      "cell_type": "code",
      "source": [
        "# reduce() :-> function is for performing some computation on a list and returning the result.\n",
        "#   it applies a rolling computation to sequential pairs of value in a list"
      ],
      "metadata": {
        "id": "cRpV1LfB0woQ"
      },
      "execution_count": null,
      "outputs": []
    },
    {
      "cell_type": "code",
      "source": [
        "#product of elements in a list \n",
        "product = 1\n",
        "lst = [1, 2, 3, 4]\n",
        "\n",
        "#traditional program without reduce()\n",
        "for num in lst:\n",
        "  product *= num\n",
        "print(product)"
      ],
      "metadata": {
        "colab": {
          "base_uri": "https://localhost:8080/"
        },
        "id": "JydumM2p1Jzj",
        "outputId": "ef22324b-3a96-4a81-c33d-34a6e1331ccd"
      },
      "execution_count": null,
      "outputs": [
        {
          "output_type": "stream",
          "name": "stdout",
          "text": [
            "24\n"
          ]
        }
      ]
    },
    {
      "cell_type": "code",
      "source": [
        "#with reduce()\n",
        "from functools import reduce\n",
        "\n",
        "def multiply(x, y):\n",
        "  return x*y\n",
        "\n",
        "product = reduce(multiply, lst)\n",
        "print(product)"
      ],
      "metadata": {
        "colab": {
          "base_uri": "https://localhost:8080/"
        },
        "id": "L3mb73_61e-f",
        "outputId": "0133191e-1559-4945-8c94-0b2efd642a99"
      },
      "execution_count": null,
      "outputs": [
        {
          "output_type": "stream",
          "name": "stdout",
          "text": [
            "24\n"
          ]
        }
      ]
    },
    {
      "cell_type": "markdown",
      "source": [
        "**Function arguments**"
      ],
      "metadata": {
        "id": "WrGQ8CXi4xJd"
      }
    },
    {
      "cell_type": "code",
      "source": [
        "def greet(name, msg):\n",
        "  \"\"\"\n",
        "  This function greets to person with the provided message\n",
        "  \"\"\"\n",
        "  print(\"Kon'nichiwa {0}, {1}\".format(name, msg))\n",
        "\n",
        "#call the function with arguments\n",
        "greet(\"Nikhil\", \"Genkidesuka\")"
      ],
      "metadata": {
        "id": "1puI-pNh10G4",
        "colab": {
          "base_uri": "https://localhost:8080/"
        },
        "outputId": "51bfc199-ff5e-4728-99f9-902f948ce928"
      },
      "execution_count": 1,
      "outputs": [
        {
          "output_type": "stream",
          "name": "stdout",
          "text": [
            "Kon'nichiwa Nikhil, Genkidesuka\n"
          ]
        }
      ]
    },
    {
      "cell_type": "code",
      "source": [
        "# Suppose if we pass one argument\n",
        "greet(\"Amlan\") # will get error"
      ],
      "metadata": {
        "colab": {
          "base_uri": "https://localhost:8080/",
          "height": 183
        },
        "id": "S-W9RREH5YIs",
        "outputId": "3967b8fb-0668-45f4-ff25-1f588f350461"
      },
      "execution_count": 2,
      "outputs": [
        {
          "output_type": "error",
          "ename": "TypeError",
          "evalue": "ignored",
          "traceback": [
            "\u001b[0;31m---------------------------------------------------------------------------\u001b[0m",
            "\u001b[0;31mTypeError\u001b[0m                                 Traceback (most recent call last)",
            "\u001b[0;32m<ipython-input-2-002cdaa2629e>\u001b[0m in \u001b[0;36m<module>\u001b[0;34m()\u001b[0m\n\u001b[1;32m      1\u001b[0m \u001b[0;31m# Suppose if we pass one argument\u001b[0m\u001b[0;34m\u001b[0m\u001b[0;34m\u001b[0m\u001b[0;34m\u001b[0m\u001b[0m\n\u001b[0;32m----> 2\u001b[0;31m \u001b[0mgreet\u001b[0m\u001b[0;34m(\u001b[0m\u001b[0;34m\"Amlan\"\u001b[0m\u001b[0;34m)\u001b[0m\u001b[0;34m\u001b[0m\u001b[0;34m\u001b[0m\u001b[0m\n\u001b[0m",
            "\u001b[0;31mTypeError\u001b[0m: greet() missing 1 required positional argument: 'msg'"
          ]
        }
      ]
    },
    {
      "cell_type": "code",
      "source": [
        "# to get away with above problem we'll use default argument\n",
        "def greet(name, msg = \"Genkidesuka\"):\n",
        "  \"\"\"\n",
        "  This function greets to person with the provided message\n",
        "  \"\"\"\n",
        "  print(\"Kon'nichiwa {0}, {1}\".format(name, msg))\n",
        "\n",
        "#call the function with arguments\n",
        "greet(\"Nikhil\")"
      ],
      "metadata": {
        "colab": {
          "base_uri": "https://localhost:8080/"
        },
        "id": "LbWYieMw5tz7",
        "outputId": "0768e46d-a6fd-42b2-ef4c-7b057435614e"
      },
      "execution_count": 3,
      "outputs": [
        {
          "output_type": "stream",
          "name": "stdout",
          "text": [
            "Kon'nichiwa Nikhil, Genkidesuka\n"
          ]
        }
      ]
    },
    {
      "cell_type": "code",
      "source": [
        "# Once we hae a default argumnet, all the arguments to its right must also have default values.\n",
        "# def greet(name = \"Nikhil\", msg) this will get a SyntaxError: non-default argument follows default\n",
        "# argument, basically when we call greet(\"Hello\") its tries to assign \"Hello\" to name"
      ],
      "metadata": {
        "id": "L7Uyjlqv6FBP"
      },
      "execution_count": 4,
      "outputs": []
    },
    {
      "cell_type": "markdown",
      "source": [
        "**Keyword Arguments**\n",
        "\n",
        "kwargs allows you to pass keyworded variable length of arguments to a function. you should use **kwargs if you want to handle named arguments in a function"
      ],
      "metadata": {
        "id": "Q4xV45cJ7Qww"
      }
    },
    {
      "cell_type": "code",
      "source": [
        "def greet(**kwargs):\n",
        "  \"\"\"\n",
        "  This function greets to person with provided message\n",
        "  \"\"\"\n",
        "  if kwargs:\n",
        "    print(\"Hello {0} , {1}\".format(kwargs['name'], kwargs['msg']))\n",
        "\n",
        "greet(name = \"Nikhil\", msg = \"Genkidesuka\")"
      ],
      "metadata": {
        "colab": {
          "base_uri": "https://localhost:8080/"
        },
        "id": "6v1xMjOc7MWX",
        "outputId": "f1fea340-5fca-4391-83bc-8824dabb2609"
      },
      "execution_count": 7,
      "outputs": [
        {
          "output_type": "stream",
          "name": "stdout",
          "text": [
            "Hello Nikhil , Genkidesuka\n"
          ]
        }
      ]
    },
    {
      "cell_type": "markdown",
      "source": [
        "**Arbitary Arguments**\n",
        "sometimes, we do not know in advance the number of arguments that will be passed into a function. Python allows us to handle this kind of situation through function calls with arbitrary number of arguments"
      ],
      "metadata": {
        "id": "7Taqw-tb82xp"
      }
    },
    {
      "cell_type": "code",
      "source": [
        "def greet(*names):\n",
        "  \"\"\"\n",
        "  This function greets all person in the names tuple\n",
        "  \"\"\"\n",
        "  print(names)\n",
        "\n",
        "  for name in names:\n",
        "    print(\"Genkidesuka, {0}\".format(name))\n",
        "\n",
        "greet(\"Nikhil\", \"Amlan\", \"Amar\", \"Pritesh\")"
      ],
      "metadata": {
        "colab": {
          "base_uri": "https://localhost:8080/"
        },
        "id": "WFFsLfWK8sLJ",
        "outputId": "5c522b1e-1626-4886-a831-2d3d5a3403c7"
      },
      "execution_count": 9,
      "outputs": [
        {
          "output_type": "stream",
          "name": "stdout",
          "text": [
            "('Nikhil', 'Amlan', 'Amar', 'Pritesh')\n",
            "Genkidesuka, Nikhil\n",
            "Genkidesuka, Amlan\n",
            "Genkidesuka, Amar\n",
            "Genkidesuka, Pritesh\n"
          ]
        }
      ]
    },
    {
      "cell_type": "markdown",
      "source": [
        "**Recursion**"
      ],
      "metadata": {
        "id": "VVyNbf_092MB"
      }
    },
    {
      "cell_type": "code",
      "source": [
        "#python program to print factorial of a number using recursion\n",
        "\n",
        "def factorial(num):\n",
        "  \"\"\"\n",
        "  This is a recursion function to find the factorial of a given number\n",
        "  \"\"\"\n",
        "  return 1 if num == 1 or num == 0 else (num * factorial(num-1))\n",
        "\n",
        "num = 5\n",
        "print(\"Factorial of {0} is {1}\".format(num, factorial(num)))"
      ],
      "metadata": {
        "colab": {
          "base_uri": "https://localhost:8080/"
        },
        "id": "sjdzOXxB9o4o",
        "outputId": "77143f93-8cd2-46f2-900c-948e060e0674"
      },
      "execution_count": 14,
      "outputs": [
        {
          "output_type": "stream",
          "name": "stdout",
          "text": [
            "Factorial of 5 is 120\n"
          ]
        }
      ]
    },
    {
      "cell_type": "markdown",
      "source": [
        "**Advantages**\n",
        "\n",
        "1. Recursive functions make the code look clean and elegant.\n",
        "\n",
        "2. A complex task can be broken down into simpler sub-problems using recursion\n",
        "\n",
        "3. Sequence  generation is easier with recursion than using some nested iteration.\n",
        "\n",
        "**Disadvantages**\n",
        "\n",
        "1. Sometimes the logic behind recursion is hard to follow through.\n",
        "\n",
        "2. Recursive calls are expensive (inefficient) as they take up a lot of memory and time.\n",
        "\n",
        "3. Recursive functions are hard to debug."
      ],
      "metadata": {
        "id": "Pf3cr8RU-3Gf"
      }
    },
    {
      "cell_type": "code",
      "source": [
        "def fibonacci(num):\n",
        "  \"\"\"\n",
        "  This program computes fibonacci of a number\n",
        "  \"\"\"\n",
        "  return num if num <= 1 else (fibonacci(num-1) + fibonacci(num - 2))\n",
        "\n",
        "nterms = 10\n",
        "print(\"Fibonacci of sequence :\")\n",
        "for num in range(nterms):\n",
        "  print(fibonacci(num))"
      ],
      "metadata": {
        "colab": {
          "base_uri": "https://localhost:8080/"
        },
        "id": "WKvVXMNV-fl3",
        "outputId": "1903afd0-e5ce-4736-dcf2-fa27f1e54884"
      },
      "execution_count": 17,
      "outputs": [
        {
          "output_type": "stream",
          "name": "stdout",
          "text": [
            "Fibonacci of sequence :\n",
            "0\n",
            "1\n",
            "1\n",
            "2\n",
            "3\n",
            "5\n",
            "8\n",
            "13\n",
            "21\n",
            "34\n"
          ]
        }
      ]
    },
    {
      "cell_type": "markdown",
      "source": [
        "##**Anonymous / Lambda Function**\n",
        "\n",
        "In Python, anonymous function is a function that is defined without a name.\n",
        "\n",
        "While normal function are defined using the def keyword, in Python anonymous functions are defined using the lamda keyword.\n",
        "\n",
        "Lambda functions are used extensively along with built-in-functions like filter(), map()\n",
        "\n",
        "syntax:\n",
        "\n",
        "  function_name = lambda arguments: expression"
      ],
      "metadata": {
        "id": "n6oGvF9EBQF0"
      }
    },
    {
      "cell_type": "code",
      "source": [
        "double = lambda x: x*2 #here lambda function is named\n",
        "\n",
        "print(double(5))"
      ],
      "metadata": {
        "colab": {
          "base_uri": "https://localhost:8080/"
        },
        "id": "DYdtpTSAAnXT",
        "outputId": "ac3bd3d4-2809-4691-bbc2-0a8e96b7e49b"
      },
      "execution_count": 19,
      "outputs": [
        {
          "output_type": "stream",
          "name": "stdout",
          "text": [
            "10\n"
          ]
        }
      ]
    },
    {
      "cell_type": "code",
      "source": [
        "#Exampe use with filter()\n",
        "lst = [1, 2, 3, 4, 5]\n",
        "even_list = list(filter(lambda x: (x%2 == 0), lst)) #anonymous here lambd have no name\n",
        "print(even_list)\n"
      ],
      "metadata": {
        "colab": {
          "base_uri": "https://localhost:8080/"
        },
        "id": "UtcEcosiCUjZ",
        "outputId": "4cf4733a-ad6c-4ff2-f2ea-d7d59fe20bc6"
      },
      "execution_count": 20,
      "outputs": [
        {
          "output_type": "stream",
          "name": "stdout",
          "text": [
            "[2, 4]\n"
          ]
        }
      ]
    },
    {
      "cell_type": "code",
      "source": [
        "#Example use with map()\n",
        "lst = [1, 2, 3, 4, 5]\n",
        "sqr_lst = list(map(lambda x: x**2, lst))\n",
        "print(sqr_lst)"
      ],
      "metadata": {
        "colab": {
          "base_uri": "https://localhost:8080/"
        },
        "id": "nQBe3-4NC6pn",
        "outputId": "c332fb63-9eba-430e-dd51-9955f13ecc58"
      },
      "execution_count": 21,
      "outputs": [
        {
          "output_type": "stream",
          "name": "stdout",
          "text": [
            "[1, 4, 9, 16, 25]\n"
          ]
        }
      ]
    },
    {
      "cell_type": "code",
      "source": [
        "#Example use with reduce()\n",
        "from functools import reduce\n",
        "\n",
        "lst = [1, 2, 3, 4, 5]\n",
        "product_lst = reduce(lambda x,y : x*y, lst)\n",
        "print(product_lst)"
      ],
      "metadata": {
        "colab": {
          "base_uri": "https://localhost:8080/"
        },
        "id": "-lfXMENPDdJP",
        "outputId": "e9ebd350-ad9f-467d-f6a2-133add782842"
      },
      "execution_count": 22,
      "outputs": [
        {
          "output_type": "stream",
          "name": "stdout",
          "text": [
            "120\n"
          ]
        }
      ]
    },
    {
      "cell_type": "markdown",
      "source": [
        "List of all the Python modules: https://docs.python.org/3/py-modindex.html#cap-a"
      ],
      "metadata": {
        "id": "5qt4GMJiFLmF"
      }
    },
    {
      "cell_type": "code",
      "source": [
        ""
      ],
      "metadata": {
        "id": "YZo0h8F-D1lp"
      },
      "execution_count": null,
      "outputs": []
    }
  ]
}