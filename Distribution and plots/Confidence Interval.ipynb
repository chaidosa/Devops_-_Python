{
 "cells": [
  {
   "cell_type": "code",
   "execution_count": 23,
   "id": "202bfdc7",
   "metadata": {},
   "outputs": [
    {
     "data": {
      "image/png": "[encoded data removed]",
      "text/plain": [
       "<Figure size 432x288 with 1 Axes>"
      ]
     },
     "metadata": {
      "needs_background": "light"
     },
     "output_type": "display_data"
    },
    {
     "name": "stdout",
     "output_type": "stream",
     "text": [
      "95.00 confidence interval 162 and 176.0\n"
     ]
    }
   ],
   "source": [
    "import numpy\n",
    "from sklearn.utils import resample\n",
    "from sklearn.metrics import accuracy_score\n",
    "from matplotlib import pyplot\n",
    "\n",
    "#load datasets\n",
    "X = numpy.array([180, 162, 158, 172, 168, 150, 171, 183, 165, 176])\n",
    "\n",
    "# confidence bootstrap\n",
    "n_iterations = 100000\n",
    "n_size = int(len(X));\n",
    "\n",
    "# run bootstrap\n",
    "medians = list()\n",
    "for i in range(n_iterations):\n",
    "    # prepare train and test sets\n",
    "    s = resample(X, n_samples = n_size);\n",
    "    m = numpy.median(s);\n",
    "    \n",
    "    medians.append(m)\n",
    "    \n",
    "#plot scores\n",
    "pyplot.hist(medians)\n",
    "pyplot.show()\n",
    "\n",
    "# confidence intervals\n",
    "alpha = 0.95\n",
    "p = ((1.0-alpha)/2.0) * 100\n",
    "lower = numpy.percentile(medians, p)\n",
    "\n",
    "p = (alpha + ((1.0 - alpha)/ 2.0)) *100\n",
    "upper = numpy.percentile(medians, p)\n",
    "\n",
    "print('%.2f confidence interval %.f and %.1f' % (alpha*100, lower, upper))"
   ]
  },
  {
   "cell_type": "code",
   "execution_count": null,
   "id": "18ee39a6",
   "metadata": {},
   "outputs": [],
   "source": []
  }
 ],
 "metadata": {
  "kernelspec": {
   "display_name": "Python 3 (ipykernel)",
   "language": "python",
   "name": "python3"
  },
  "language_info": {
   "codemirror_mode": {
    "name": "ipython",
    "version": 3
   },
   "file_extension": ".py",
   "mimetype": "text/x-python",
   "name": "python",
   "nbconvert_exporter": "python",
   "pygments_lexer": "ipython3",
   "version": "3.8.10"
  }
 },
 "nbformat": 4,
 "nbformat_minor": 5
}
