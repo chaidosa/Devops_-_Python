{
  "cells": [
    {
      "cell_type": "markdown",
      "metadata": {
        "id": "view-in-github",
        "colab_type": "text"
      },
      "source": [
        "<a href=\"https://colab.research.google.com/github/priteshvermaa/Devops_-_Python/blob/master/List.ipynb\" target=\"_parent\"><img src=\"https://colab.research.google.com/assets/colab-badge.svg\" alt=\"Open In Colab\"/></a>"
      ]
    },
    {
      "cell_type": "code",
      "execution_count": null,
      "id": "d5c0b9ea",
      "metadata": {
        "colab": {
          "base_uri": "https://localhost:8080/"
        },
        "id": "d5c0b9ea",
        "outputId": "81f7577f-43d3-49a5-854e-ada939b6413e"
      },
      "outputs": [
        {
          "output_type": "stream",
          "name": "stdout",
          "text": [
            "['False', 'None', 'True', 'and', 'as', 'assert', 'async', 'await', 'break', 'class', 'continue', 'def', 'del', 'elif', 'else', 'except', 'finally', 'for', 'from', 'global', 'if', 'import', 'in', 'is', 'lambda', 'nonlocal', 'not', 'or', 'pass', 'raise', 'return', 'try', 'while', 'with', 'yield']\n",
            "\n",
            " total number of keywords:  35\n"
          ]
        }
      ],
      "source": [
        "import keyword\n",
        "print(keyword.kwlist)\n",
        "print(\"\\n total number of keywords: \", len(keyword.kwlist))"
      ]
    },
    {
      "cell_type": "code",
      "execution_count": null,
      "id": "ddf3e581",
      "metadata": {
        "colab": {
          "base_uri": "https://localhost:8080/"
        },
        "id": "ddf3e581",
        "outputId": "6c5199d2-516f-4e14-8028-5f3fbf87a190"
      },
      "outputs": [
        {
          "output_type": "stream",
          "name": "stdout",
          "text": [
            "12\n"
          ]
        }
      ],
      "source": [
        "abc_12 = 12\n",
        "print(abc_12)"
      ]
    },
    {
      "cell_type": "code",
      "execution_count": null,
      "id": "826a3214",
      "metadata": {
        "id": "826a3214",
        "outputId": "a826e94d-c6d7-42e3-a550-334bc2616db4"
      },
      "outputs": [
        {
          "name": "stdout",
          "output_type": "stream",
          "text": [
            "above is single line comment\n"
          ]
        }
      ],
      "source": [
        "# this means single line comment \n",
        "print(\"above is single line comment\")"
      ]
    },
    {
      "cell_type": "code",
      "execution_count": null,
      "id": "845a3705",
      "metadata": {
        "colab": {
          "base_uri": "https://localhost:8080/"
        },
        "id": "845a3705",
        "outputId": "27fd28cd-57ea-4836-9ba2-b497451d4752"
      },
      "outputs": [
        {
          "output_type": "stream",
          "name": "stdout",
          "text": [
            "above is example of multiline comment\n"
          ]
        }
      ],
      "source": [
        "\"\"\"This is a \n",
        "perfect example of multiline comment\"\"\"\n",
        "\n",
        "print(\"above is example of multiline comment\")"
      ]
    },
    {
      "cell_type": "code",
      "execution_count": null,
      "id": "1ca192a5",
      "metadata": {
        "id": "1ca192a5",
        "outputId": "1f6f195b-c378-4363-ac00-7a659b9c1d35"
      },
      "outputs": [
        {
          "name": "stdout",
          "output_type": "stream",
          "text": [
            "0\n",
            "1\n",
            "2\n"
          ]
        }
      ],
      "source": [
        "for i in range(3):\n",
        "    print(i)"
      ]
    },
    {
      "cell_type": "code",
      "execution_count": null,
      "id": "2fee26a3",
      "metadata": {
        "id": "2fee26a3"
      },
      "outputs": [],
      "source": [
        "#four spaces for indentations"
      ]
    },
    {
      "cell_type": "code",
      "execution_count": null,
      "id": "ba4eda9b",
      "metadata": {
        "id": "ba4eda9b",
        "outputId": "c98b8416-9c53-4bfe-badb-6e4434ac8835"
      },
      "outputs": [
        {
          "name": "stdout",
          "output_type": "stream",
          "text": [
            "Applied AI\n"
          ]
        }
      ],
      "source": [
        "if True:\n",
        "    print(\"Applied AI\")\n",
        "    c = \"PVPV\""
      ]
    },
    {
      "cell_type": "code",
      "execution_count": null,
      "id": "a667b22b",
      "metadata": {
        "id": "a667b22b",
        "outputId": "392076c5-486a-4740-90c5-2d73acec23ea"
      },
      "outputs": [
        {
          "name": "stdout",
          "output_type": "stream",
          "text": [
            "PVPV\n"
          ]
        }
      ],
      "source": [
        "print(c)"
      ]
    },
    {
      "cell_type": "code",
      "execution_count": null,
      "id": "119015d3",
      "metadata": {
        "id": "119015d3"
      },
      "outputs": [],
      "source": [
        "a = 1 # single statement"
      ]
    },
    {
      "cell_type": "code",
      "execution_count": null,
      "id": "a6dbdd34",
      "metadata": {
        "id": "a6dbdd34"
      },
      "outputs": [],
      "source": [
        "#multiline statements\n",
        "a = 1 + 2 + 3 + \\\n",
        "    4 + 5 + 6 + \\\n",
        "    7 + 8"
      ]
    },
    {
      "cell_type": "code",
      "execution_count": null,
      "id": "c3d6c5a1",
      "metadata": {
        "id": "c3d6c5a1",
        "outputId": "ebb3ccf7-f440-4e02-fa42-90c4d14d4f21"
      },
      "outputs": [
        {
          "name": "stdout",
          "output_type": "stream",
          "text": [
            "36\n"
          ]
        }
      ],
      "source": [
        "print(a)"
      ]
    },
    {
      "cell_type": "code",
      "execution_count": null,
      "id": "6ce26ba1",
      "metadata": {
        "id": "6ce26ba1"
      },
      "outputs": [],
      "source": [
        "q = (1 + 2 + 3 + \n",
        "    4 + 5 + 6 + \n",
        "    7 + 8)"
      ]
    },
    {
      "cell_type": "code",
      "execution_count": null,
      "id": "8e753a36",
      "metadata": {
        "id": "8e753a36",
        "outputId": "a5202ee5-7948-477e-c8e1-398be42020e8"
      },
      "outputs": [
        {
          "name": "stdout",
          "output_type": "stream",
          "text": [
            "36\n"
          ]
        }
      ],
      "source": [
        "print(q)"
      ]
    },
    {
      "cell_type": "code",
      "execution_count": null,
      "id": "f7f1584e",
      "metadata": {
        "id": "f7f1584e"
      },
      "outputs": [],
      "source": [
        "a = 10; b = 20; c = 30 #put multiple statements in a single line using semicolon"
      ]
    },
    {
      "cell_type": "code",
      "execution_count": null,
      "id": "a0c7cc18",
      "metadata": {
        "id": "a0c7cc18"
      },
      "outputs": [],
      "source": [
        "# NOw we'll use variable"
      ]
    },
    {
      "cell_type": "code",
      "execution_count": null,
      "id": "e588ea77",
      "metadata": {
        "id": "e588ea77"
      },
      "outputs": [],
      "source": [
        "a = 10 \n",
        "b = 5.5\n",
        "c = \"Pritesh\""
      ]
    },
    {
      "cell_type": "code",
      "execution_count": null,
      "id": "2785c852",
      "metadata": {
        "id": "2785c852",
        "outputId": "bbc481e8-5772-4a3b-cbd9-ec66edb48b97"
      },
      "outputs": [
        {
          "name": "stdout",
          "output_type": "stream",
          "text": [
            "10   5.5   ML\n"
          ]
        }
      ],
      "source": [
        "#Multiple assignment\n",
        "\n",
        "a,b,c = 10, 5.5, \"ML\"\n",
        "print(a,\" \",b,\" \",c)"
      ]
    },
    {
      "cell_type": "code",
      "execution_count": null,
      "id": "5fe93651",
      "metadata": {
        "id": "5fe93651",
        "outputId": "6c2441ef-f2eb-4018-a68a-a3300733914a"
      },
      "outputs": [
        {
          "name": "stdout",
          "output_type": "stream",
          "text": [
            "94466824280672\n"
          ]
        }
      ],
      "source": [
        "x = 3 \n",
        "print(id(x)) # it prints the address of the variable x"
      ]
    },
    {
      "cell_type": "code",
      "execution_count": null,
      "id": "d55c49f4",
      "metadata": {
        "id": "d55c49f4",
        "outputId": "3de42c5b-ecc3-4482-e92e-1a97e317285b"
      },
      "outputs": [
        {
          "name": "stdout",
          "output_type": "stream",
          "text": [
            "94466824280672\n"
          ]
        }
      ],
      "source": [
        "y = 3 \n",
        "\n",
        "print(id(y)) "
      ]
    },
    {
      "cell_type": "code",
      "execution_count": null,
      "id": "1ba61c86",
      "metadata": {
        "id": "1ba61c86",
        "outputId": "cf53663f-f13b-4ff2-b76f-15fa8c658397"
      },
      "outputs": [
        {
          "name": "stdout",
          "output_type": "stream",
          "text": [
            "94466824280640\n"
          ]
        }
      ],
      "source": [
        "y = 2 \n",
        "print(id(y))"
      ]
    },
    {
      "cell_type": "code",
      "execution_count": null,
      "id": "f5f3b21b",
      "metadata": {
        "id": "f5f3b21b"
      },
      "outputs": [],
      "source": [
        "#H1 DATA TYPES\n",
        "\n",
        "#Everthing in python is object"
      ]
    },
    {
      "cell_type": "code",
      "execution_count": null,
      "id": "69ff5742",
      "metadata": {
        "id": "69ff5742",
        "outputId": "794e6d34-a8d7-4079-aab9-84fdc0547f18"
      },
      "outputs": [
        {
          "name": "stdout",
          "output_type": "stream",
          "text": [
            "5  is of type <class 'int'>\n"
          ]
        }
      ],
      "source": [
        "a = 5\n",
        "print(a, \" is of type\", type(a))"
      ]
    },
    {
      "cell_type": "code",
      "execution_count": null,
      "id": "8466f57f",
      "metadata": {
        "id": "8466f57f",
        "outputId": "089f84a1-128e-400d-de2e-8c17d9387355"
      },
      "outputs": [
        {
          "name": "stdout",
          "output_type": "stream",
          "text": [
            "2.5  is of type <class 'float'>\n"
          ]
        }
      ],
      "source": [
        "a = 2.5\n",
        "print(a, \" is of type\", type(a))"
      ]
    },
    {
      "cell_type": "code",
      "execution_count": null,
      "id": "86c04c03",
      "metadata": {
        "id": "86c04c03",
        "outputId": "1b9eaf33-7fcb-4941-8a02-e420e5c8a2af"
      },
      "outputs": [
        {
          "name": "stdout",
          "output_type": "stream",
          "text": [
            "(1+2j)  is a complex?\n",
            "True\n",
            "<class 'complex'>\n"
          ]
        }
      ],
      "source": [
        "a = 1 + 2j\n",
        "print(a, \" is a complex?\")\n",
        "print(isinstance(1+2j, complex))\n",
        "print(type(a))"
      ]
    },
    {
      "cell_type": "code",
      "execution_count": null,
      "id": "d8ef711a",
      "metadata": {
        "id": "d8ef711a",
        "outputId": "21ccf446-3300-4ba4-9bfa-1a0a01345075"
      },
      "outputs": [
        {
          "name": "stdout",
          "output_type": "stream",
          "text": [
            "<class 'bool'>\n"
          ]
        }
      ],
      "source": [
        "a = True\n",
        "print(type(a))"
      ]
    },
    {
      "cell_type": "code",
      "execution_count": null,
      "id": "a08df5f1",
      "metadata": {
        "id": "a08df5f1"
      },
      "outputs": [],
      "source": [
        "# Python Strings"
      ]
    },
    {
      "cell_type": "code",
      "execution_count": null,
      "id": "051fe5bc",
      "metadata": {
        "id": "051fe5bc",
        "outputId": "e2851f4c-e672-4a08-9711-d44da3c7070b"
      },
      "outputs": [
        {
          "name": "stdout",
          "output_type": "stream",
          "text": [
            "<class 'str'>\n"
          ]
        }
      ],
      "source": [
        "s = \"This is the online version of notebook I used when I didn't had dharwad internet connection\"\n",
        "print(type(s))"
      ]
    },
    {
      "cell_type": "code",
      "execution_count": null,
      "id": "1b42d378",
      "metadata": {
        "id": "1b42d378",
        "outputId": "0e4f6d47-a5f6-4b4c-86ef-df1265b47860"
      },
      "outputs": [
        {
          "name": "stdout",
          "output_type": "stream",
          "text": [
            "This is just me \n",
            "testing out multiline string\n",
            "<class 'str'>\n"
          ]
        }
      ],
      "source": [
        "s = \"\"\"This is just me \n",
        "testing out multiline string\"\"\"\n",
        "print(s)\n",
        "print(type(s))"
      ]
    },
    {
      "cell_type": "code",
      "execution_count": null,
      "id": "4065c942",
      "metadata": {
        "id": "4065c942",
        "outputId": "1b056f92-7eca-4162-8d62-39c9f0d58aae"
      },
      "outputs": [
        {
          "name": "stdout",
          "output_type": "stream",
          "text": [
            "T\n",
            "g\n",
            "g\n"
          ]
        }
      ],
      "source": [
        "print(s[0])\n",
        "print(s[-1]) # last element\n",
        "print(s[len(s)-1])"
      ]
    },
    {
      "cell_type": "code",
      "execution_count": null,
      "id": "3a24e99c",
      "metadata": {
        "id": "3a24e99c",
        "outputId": "a03a14b1-daef-46c5-8697-9b94891538f9"
      },
      "outputs": [
        {
          "name": "stdout",
          "output_type": "stream",
          "text": [
            "is just me \n",
            "testing out multiline string\n"
          ]
        }
      ],
      "source": [
        "#slicing\n",
        "print(s[5:])"
      ]
    },
    {
      "cell_type": "code",
      "execution_count": null,
      "id": "89830fc1",
      "metadata": {
        "id": "89830fc1",
        "outputId": "743c8ef5-7d78-4f43-bd63-2a0a3331b709"
      },
      "outputs": [
        {
          "name": "stdout",
          "output_type": "stream",
          "text": [
            "is ju\n"
          ]
        }
      ],
      "source": [
        "print(s[5:10]) # 5 to 9 not 10th one"
      ]
    },
    {
      "cell_type": "code",
      "execution_count": null,
      "id": "d88283fa",
      "metadata": {
        "id": "d88283fa"
      },
      "outputs": [],
      "source": [
        "#Python list"
      ]
    },
    {
      "cell_type": "code",
      "execution_count": null,
      "id": "18764055",
      "metadata": {
        "id": "18764055",
        "outputId": "eb45f8f6-8616-4868-8f86-7c1f1dcf07b5"
      },
      "outputs": [
        {
          "name": "stdout",
          "output_type": "stream",
          "text": [
            "[10, 20.5, 'Hell0']\n",
            "20.5\n",
            "[10, 20.5, 'Hell0']\n"
          ]
        }
      ],
      "source": [
        "a = [10, 20.5, \"Hell0\"]\n",
        "print(a)\n",
        "print(a[1])\n",
        "print(a[:])"
      ]
    },
    {
      "cell_type": "code",
      "execution_count": null,
      "id": "b9715c26",
      "metadata": {
        "id": "b9715c26"
      },
      "outputs": [],
      "source": [
        "a[1] = \"Pritesh\""
      ]
    },
    {
      "cell_type": "code",
      "execution_count": null,
      "id": "85d8e319",
      "metadata": {
        "id": "85d8e319",
        "outputId": "f20c44e0-42c4-4748-d2b3-e025a770a148"
      },
      "outputs": [
        {
          "name": "stdout",
          "output_type": "stream",
          "text": [
            "[10, 'Pritesh', 'Hell0']\n"
          ]
        }
      ],
      "source": [
        "print(a)"
      ]
    },
    {
      "cell_type": "code",
      "execution_count": null,
      "id": "f970229b",
      "metadata": {
        "id": "f970229b",
        "outputId": "de5c05e9-a1bd-4670-8d43-19553740bd13"
      },
      "outputs": [
        {
          "name": "stdout",
          "output_type": "stream",
          "text": [
            "<class 'list'>\n"
          ]
        }
      ],
      "source": [
        "print(type(a))"
      ]
    },
    {
      "cell_type": "code",
      "execution_count": null,
      "id": "dae61943",
      "metadata": {
        "id": "dae61943"
      },
      "outputs": [],
      "source": [
        "# List are mutable, meaning, values of elemnets of a list can be altered"
      ]
    },
    {
      "cell_type": "code",
      "execution_count": null,
      "id": "4678a4e5",
      "metadata": {
        "id": "4678a4e5"
      },
      "outputs": [],
      "source": [
        "#Python tuple the only difference between list and tuple is () -> tuple []-> list and tuple\n",
        "#are immutable"
      ]
    },
    {
      "cell_type": "code",
      "execution_count": null,
      "id": "354418e7",
      "metadata": {
        "id": "354418e7",
        "outputId": "e30155a8-e945-457c-df4f-076e1c568541"
      },
      "outputs": [
        {
          "name": "stdout",
          "output_type": "stream",
          "text": [
            "{5, 40, 10, 20, 30}\n",
            "<class 'set'>\n"
          ]
        }
      ],
      "source": [
        "#python set\n",
        "a = {10, 30, 20, 40, 5}\n",
        "print(a)\n",
        "print(type(a))"
      ]
    },
    {
      "cell_type": "code",
      "execution_count": null,
      "id": "9b018eb9",
      "metadata": {
        "id": "9b018eb9",
        "outputId": "b85a9a59-1212-47c9-eb91-e6badb576281"
      },
      "outputs": [
        {
          "name": "stdout",
          "output_type": "stream",
          "text": [
            "{40, 10, 20, 50}\n"
          ]
        }
      ],
      "source": [
        "a = {10, 10, 10, 20, 20, 40, 50} #set in python is similar to the set in mathematics\n",
        "print(a)"
      ]
    },
    {
      "cell_type": "code",
      "execution_count": null,
      "id": "c9ab92fd",
      "metadata": {
        "id": "c9ab92fd",
        "outputId": "ea761d77-07c3-42e2-ab67-cea60770e480"
      },
      "outputs": [
        {
          "ename": "TypeError",
          "evalue": "'set' object does not support indexing",
          "output_type": "error",
          "traceback": [
            "\u001b[0;31m---------------------------------------------------------------------------\u001b[0m",
            "\u001b[0;31mTypeError\u001b[0m                                 Traceback (most recent call last)",
            "\u001b[0;32m<ipython-input-59-85f92591e530>\u001b[0m in \u001b[0;36m<module>\u001b[0;34m\u001b[0m\n\u001b[0;32m----> 1\u001b[0;31m \u001b[0mprint\u001b[0m\u001b[0;34m(\u001b[0m\u001b[0ma\u001b[0m\u001b[0;34m[\u001b[0m\u001b[0;36m1\u001b[0m\u001b[0;34m]\u001b[0m\u001b[0;34m)\u001b[0m \u001b[0;31m# we cannot print particular item in set because\u001b[0m\u001b[0;34m\u001b[0m\u001b[0;34m\u001b[0m\u001b[0m\n\u001b[0m\u001b[1;32m      2\u001b[0m             \u001b[0;31m# it's unorder collections of items\u001b[0m\u001b[0;34m\u001b[0m\u001b[0;34m\u001b[0m\u001b[0;34m\u001b[0m\u001b[0m\n",
            "\u001b[0;31mTypeError\u001b[0m: 'set' object does not support indexing"
          ]
        }
      ],
      "source": [
        "print(a[1]) # we cannot print particular item in set because \n",
        "            # it's unorder collections of items"
      ]
    },
    {
      "cell_type": "code",
      "execution_count": null,
      "id": "7fbb971f",
      "metadata": {
        "id": "7fbb971f",
        "outputId": "7c1ddf02-7a8a-40cc-ed30-cecae07defd0"
      },
      "outputs": [
        {
          "data": {
            "text/plain": [
              "' Dictionaries are defined within braces {} with each item being\\n           a pair in the form Key: value. where key and value can be of any type'"
            ]
          },
          "execution_count": 65,
          "metadata": {},
          "output_type": "execute_result"
        }
      ],
      "source": [
        " #Python dictionary\n",
        "    \"\"\" Dictionaries are defined within braces {} with each item being\n",
        "    a pair in the form Key: value. where key and value can be of any type\"\"\""
      ]
    },
    {
      "cell_type": "code",
      "execution_count": null,
      "id": "4e973619",
      "metadata": {
        "id": "4e973619",
        "outputId": "75172459-e1b0-4405-c49a-5b212c4c1f8d"
      },
      "outputs": [
        {
          "name": "stdout",
          "output_type": "stream",
          "text": [
            "apple\n"
          ]
        }
      ],
      "source": [
        "d = {'a':\"apple\", 'b': \"bat\"}\n",
        "print(d['a'])"
      ]
    },
    {
      "cell_type": "code",
      "execution_count": null,
      "id": "a8a0546e",
      "metadata": {
        "id": "a8a0546e"
      },
      "outputs": [],
      "source": [
        " # conversion between datatypes"
      ]
    },
    {
      "cell_type": "code",
      "execution_count": null,
      "id": "82d819a0",
      "metadata": {
        "id": "82d819a0",
        "outputId": "d5aa45bf-0d2e-4e10-8fae-edd24a126355"
      },
      "outputs": [
        {
          "data": {
            "text/plain": [
              "5.0"
            ]
          },
          "execution_count": 67,
          "metadata": {},
          "output_type": "execute_result"
        }
      ],
      "source": [
        "float(5)"
      ]
    },
    {
      "cell_type": "code",
      "execution_count": null,
      "id": "0c9d7e77",
      "metadata": {
        "id": "0c9d7e77",
        "outputId": "41f4210d-5038-4714-df03-ec4f7e5d3282"
      },
      "outputs": [
        {
          "data": {
            "text/plain": [
              "100"
            ]
          },
          "execution_count": 68,
          "metadata": {},
          "output_type": "execute_result"
        }
      ],
      "source": [
        "int(100.87)"
      ]
    },
    {
      "cell_type": "code",
      "execution_count": null,
      "id": "40809b68",
      "metadata": {
        "id": "40809b68",
        "outputId": "34381ac5-6307-400d-9ae0-991dcb619289"
      },
      "outputs": [
        {
          "data": {
            "text/plain": [
              "'200'"
            ]
          },
          "execution_count": 69,
          "metadata": {},
          "output_type": "execute_result"
        }
      ],
      "source": [
        "str(200)"
      ]
    },
    {
      "cell_type": "code",
      "execution_count": null,
      "id": "aad3b843",
      "metadata": {
        "id": "aad3b843"
      },
      "outputs": [],
      "source": [
        "# conversion to and from string must contain compatible values"
      ]
    },
    {
      "cell_type": "code",
      "execution_count": null,
      "id": "854bda75",
      "metadata": {
        "id": "854bda75",
        "outputId": "6eb31613-a45a-4d58-892b-5ad49099297b"
      },
      "outputs": [
        {
          "ename": "ValueError",
          "evalue": "invalid literal for int() with base 10: '10p'",
          "output_type": "error",
          "traceback": [
            "\u001b[0;31m---------------------------------------------------------------------------\u001b[0m",
            "\u001b[0;31mValueError\u001b[0m                                Traceback (most recent call last)",
            "\u001b[0;32m<ipython-input-71-8bb83f613c14>\u001b[0m in \u001b[0;36m<module>\u001b[0;34m\u001b[0m\n\u001b[0;32m----> 1\u001b[0;31m \u001b[0mint\u001b[0m\u001b[0;34m(\u001b[0m\u001b[0;34m'10p'\u001b[0m\u001b[0;34m)\u001b[0m\u001b[0;34m\u001b[0m\u001b[0;34m\u001b[0m\u001b[0m\n\u001b[0m",
            "\u001b[0;31mValueError\u001b[0m: invalid literal for int() with base 10: '10p'"
          ]
        }
      ],
      "source": [
        "int('10p')"
      ]
    },
    {
      "cell_type": "code",
      "execution_count": null,
      "id": "9138b27c",
      "metadata": {
        "id": "9138b27c",
        "outputId": "ef9e6733-dccc-4faa-d3f4-8c2c46f70eb8"
      },
      "outputs": [
        {
          "data": {
            "text/plain": [
              "10"
            ]
          },
          "execution_count": 72,
          "metadata": {},
          "output_type": "execute_result"
        }
      ],
      "source": [
        "int(10)"
      ]
    },
    {
      "cell_type": "code",
      "execution_count": null,
      "id": "d19a8424",
      "metadata": {
        "id": "d19a8424",
        "outputId": "0a549fc6-45e0-44d4-ae2b-1e1dc5a8e893"
      },
      "outputs": [
        {
          "name": "stdout",
          "output_type": "stream",
          "text": [
            "Congratulations, Pritesh! you just wrote 100 lines of code\n"
          ]
        }
      ],
      "source": [
        "user = \"Pritesh\"\n",
        "lines = 100\n",
        "\n",
        "print(\"Congratulations, \" + user + \"! you just wrote \" + str(lines) + \" lines of code\")"
      ]
    },
    {
      "cell_type": "code",
      "execution_count": null,
      "id": "6874539f",
      "metadata": {
        "id": "6874539f",
        "outputId": "b9474b86-bff1-4e06-f104-ce2d0ffc9a20"
      },
      "outputs": [
        {
          "name": "stdout",
          "output_type": "stream",
          "text": [
            "<class 'list'>\n",
            "<class 'list'>\n"
          ]
        }
      ],
      "source": [
        "a = [1, 2, 3]\n",
        "print(type(a))\n",
        "\n",
        "s = set(a)\n",
        "print(type(a))"
      ]
    },
    {
      "cell_type": "code",
      "execution_count": null,
      "id": "68c049f0",
      "metadata": {
        "id": "68c049f0",
        "outputId": "18cceebe-0182-4be3-9bf6-e22c4c012ef8"
      },
      "outputs": [
        {
          "data": {
            "text/plain": [
              "['P', 'r', 'i', 't', 'e', 's', 'h']"
            ]
          },
          "execution_count": 78,
          "metadata": {},
          "output_type": "execute_result"
        }
      ],
      "source": [
        "list(\"Pritesh\")"
      ]
    },
    {
      "cell_type": "code",
      "execution_count": null,
      "id": "d9ab8302",
      "metadata": {
        "id": "d9ab8302"
      },
      "outputs": [],
      "source": [
        "# is and is not  IDENTITY Operator"
      ]
    },
    {
      "cell_type": "code",
      "source": [
        "a = 5\n",
        "b = 5\n",
        "print(a is b) #5 is object created one both a and b points to same object\n",
        "print(a is not b)\n",
        "\n",
        "\"\"\"This is only true for simple data type \"\"\""
      ],
      "metadata": {
        "colab": {
          "base_uri": "https://localhost:8080/",
          "height": 70
        },
        "id": "rSfT7wzDXbou",
        "outputId": "60a9909d-7b7e-47f8-dd2f-55666acf045a"
      },
      "id": "rSfT7wzDXbou",
      "execution_count": null,
      "outputs": [
        {
          "output_type": "stream",
          "name": "stdout",
          "text": [
            "True\n",
            "False\n"
          ]
        },
        {
          "output_type": "execute_result",
          "data": {
            "application/vnd.google.colaboratory.intrinsic+json": {
              "type": "string"
            },
            "text/plain": [
              "'This is only true for simple data type '"
            ]
          },
          "metadata": {},
          "execution_count": 12
        }
      ]
    },
    {
      "cell_type": "code",
      "source": [
        " s1 = \"AAIC\"\n",
        " s2 = \"AAIC\"\n",
        " print(s1 is s2)"
      ],
      "metadata": {
        "colab": {
          "base_uri": "https://localhost:8080/"
        },
        "id": "fUIIX8RWXlxh",
        "outputId": "7c8c6259-342f-4583-a23a-da2676a7ea37"
      },
      "id": "fUIIX8RWXlxh",
      "execution_count": null,
      "outputs": [
        {
          "output_type": "stream",
          "name": "stdout",
          "text": [
            "True\n"
          ]
        }
      ]
    },
    {
      "cell_type": "code",
      "source": [
        "# Membershib operator \n",
        "\"\"\" in and not in are the membership operators in python\n",
        "They are used to test whether a value or variable is found in a sequence (string, list, tuple, set and dictionary)\"\"\""
      ],
      "metadata": {
        "colab": {
          "base_uri": "https://localhost:8080/",
          "height": 53
        },
        "id": "HEE65JS_YMXD",
        "outputId": "4f73806a-3b56-4cd8-f270-049bada07117"
      },
      "id": "HEE65JS_YMXD",
      "execution_count": null,
      "outputs": [
        {
          "output_type": "execute_result",
          "data": {
            "application/vnd.google.colaboratory.intrinsic+json": {
              "type": "string"
            },
            "text/plain": [
              "' in and not in are the membership operators in python\\nThey are used to test whether a value or variable is found in a sequence (string, list, tuple, set and dictionary)'"
            ]
          },
          "metadata": {},
          "execution_count": 13
        }
      ]
    },
    {
      "cell_type": "code",
      "source": [
        "lst = [1, 2, 3, 4]\n",
        "print(1 in lst)"
      ],
      "metadata": {
        "colab": {
          "base_uri": "https://localhost:8080/"
        },
        "id": "-AqoXFtsYpsI",
        "outputId": "8e5c88ff-763a-49c7-d69b-097d2ed15116"
      },
      "id": "-AqoXFtsYpsI",
      "execution_count": null,
      "outputs": [
        {
          "output_type": "stream",
          "name": "stdout",
          "text": [
            "True\n"
          ]
        }
      ]
    },
    {
      "cell_type": "code",
      "source": [
        "d = {1: \"a\", 2: \"b\"} #this is a dictionary \n",
        "print(1 in d)\n",
        "print(\"a\" in d) # it works only with keys not with value"
      ],
      "metadata": {
        "colab": {
          "base_uri": "https://localhost:8080/"
        },
        "id": "apMIaTjwY1a8",
        "outputId": "2244d6c6-adb7-4814-e69f-668ef789ee2d"
      },
      "id": "apMIaTjwY1a8",
      "execution_count": null,
      "outputs": [
        {
          "output_type": "stream",
          "name": "stdout",
          "text": [
            "True\n",
            "False\n"
          ]
        }
      ]
    },
    {
      "cell_type": "markdown",
      "source": [
        "# The if..elif..else statement is used in Python for decision making."
      ],
      "metadata": {
        "id": "bXHM_PyvaSB6"
      },
      "id": "bXHM_PyvaSB6"
    },
    {
      "cell_type": "code",
      "source": [
        "num = -10 \n",
        "\n",
        "if num > 0: # with if statement everything is true except 0 , false and None everything else is true\n",
        "  print(\"Number is positive\")\n",
        "else:\n",
        "  print(\"Number is negative\")"
      ],
      "metadata": {
        "colab": {
          "base_uri": "https://localhost:8080/"
        },
        "id": "BpG08QSWZbMX",
        "outputId": "c35e8369-b8f1-47a7-d841-78786061d405"
      },
      "id": "BpG08QSWZbMX",
      "execution_count": null,
      "outputs": [
        {
          "output_type": "stream",
          "name": "stdout",
          "text": [
            "Number is negative\n"
          ]
        }
      ]
    },
    {
      "cell_type": "markdown",
      "source": [
        "Python program to find the largest element among three numbers"
      ],
      "metadata": {
        "id": "ksnHmx_Jbe-P"
      },
      "id": "ksnHmx_Jbe-P"
    },
    {
      "cell_type": "code",
      "source": [
        "num1 = 10\n",
        "num2 = 50\n",
        "num3 = 15\n",
        "\n",
        "if(num1 >= num2) and (num1 >= num3):\n",
        "  largest = num1\n",
        "elif (num2 >= num1) and (num2 >= num3):\n",
        "  largest = num2\n",
        "else:\n",
        "  largest = num3\n",
        "print(\"Largest element among three numbers is: {}\".format(largest))\n"
      ],
      "metadata": {
        "colab": {
          "base_uri": "https://localhost:8080/"
        },
        "id": "m9M8ZaBsbmW0",
        "outputId": "73e58601-4434-439b-e853-a811c838a556"
      },
      "id": "m9M8ZaBsbmW0",
      "execution_count": null,
      "outputs": [
        {
          "output_type": "stream",
          "name": "stdout",
          "text": [
            "Largest element among three numbers is: 50\n"
          ]
        }
      ]
    },
    {
      "cell_type": "markdown",
      "source": [
        "## Python while loop"
      ],
      "metadata": {
        "id": "6Nzjvg-FcjML"
      },
      "id": "6Nzjvg-FcjML"
    },
    {
      "cell_type": "code",
      "source": [
        " lst = [10, 20, 30, 40, 50]\n",
        "\n",
        " product = 1\n",
        " index = 0\n",
        "\n",
        " while index < len(lst):\n",
        "   product *= lst[index]\n",
        "   index += 1\n",
        "\n",
        " print(\"Product is: {}\".format(product))"
      ],
      "metadata": {
        "colab": {
          "base_uri": "https://localhost:8080/"
        },
        "id": "hfDuv8C8coaL",
        "outputId": "426a37f9-ae97-429f-8aac-f091a56a0d2f"
      },
      "id": "hfDuv8C8coaL",
      "execution_count": null,
      "outputs": [
        {
          "output_type": "stream",
          "name": "stdout",
          "text": [
            "Product is: 12000000\n"
          ]
        }
      ]
    },
    {
      "cell_type": "code",
      "source": [
        "numbers = [1, 2, 3, 4, 5]\n",
        "\n",
        "#iterating over the list\n",
        "index = 0\n",
        "while index < len(numbers):\n",
        "  print(numbers[index])\n",
        "  index +=1\n",
        "else:\n",
        "  print(\"No item left in the list\")"
      ],
      "metadata": {
        "colab": {
          "base_uri": "https://localhost:8080/"
        },
        "id": "s2bRjNoWdI5r",
        "outputId": "c091b0fc-84aa-4c30-f1d0-8eb399a68bc6"
      },
      "id": "s2bRjNoWdI5r",
      "execution_count": null,
      "outputs": [
        {
          "output_type": "stream",
          "name": "stdout",
          "text": [
            "1\n",
            "2\n",
            "3\n",
            "4\n",
            "5\n",
            "No item left in the list\n"
          ]
        }
      ]
    },
    {
      "cell_type": "markdown",
      "source": [
        "**Python program to check given number is Prime number or not**"
      ],
      "metadata": {
        "id": "iVsESti_eBXa"
      },
      "id": "iVsESti_eBXa"
    },
    {
      "cell_type": "code",
      "source": [
        "import math\n",
        "num = int(input(\"Enter a number: \")) #convert string to int\n",
        "\n",
        "isDivisible = False\n",
        "\n",
        "i = 2;\n",
        "\n",
        "while i < math.sqrt(num):\n",
        "  if num % i == 0:\n",
        "    isDivisible = True\n",
        "    print(\"{} is divisible by {}\".format(num, i))\n",
        "    break   \n",
        "  i += 1\n",
        "\n",
        "if isDivisible:\n",
        "  print(\"{} is NOT a PRIME number\".format(num))\n",
        "else:\n",
        "  print(\"{} is a PRIME number\".format(num))"
      ],
      "metadata": {
        "colab": {
          "base_uri": "https://localhost:8080/"
        },
        "id": "pNUmXMDweNtg",
        "outputId": "9a6c353e-cc3c-4d94-c94c-7dd43e4c3353"
      },
      "id": "pNUmXMDweNtg",
      "execution_count": null,
      "outputs": [
        {
          "output_type": "stream",
          "name": "stdout",
          "text": [
            "Enter a number: 119\n",
            "119 is divisible by 7\n",
            "119 is NOT a PRIME number\n"
          ]
        }
      ]
    },
    {
      "cell_type": "markdown",
      "source": [
        "# FOR LOOP"
      ],
      "metadata": {
        "id": "-Ev3BiVOhYFC"
      },
      "id": "-Ev3BiVOhYFC"
    },
    {
      "cell_type": "code",
      "source": [
        "lst = [10, 20, 30, 40, 50]\n",
        "\n",
        "product = 1\n",
        "# iterating over the list \n",
        "for ele in lst:\n",
        "  product *= ele\n",
        "\n",
        "print(\"Product is : {}\".format(product))"
      ],
      "metadata": {
        "colab": {
          "base_uri": "https://localhost:8080/"
        },
        "id": "qFIXOaNDhZvG",
        "outputId": "c5cb0d19-c828-47ad-ea67-386c608ff1e3"
      },
      "id": "qFIXOaNDhZvG",
      "execution_count": null,
      "outputs": [
        {
          "output_type": "stream",
          "name": "stdout",
          "text": [
            "Product is : 12000000\n"
          ]
        }
      ]
    },
    {
      "cell_type": "markdown",
      "source": [
        "# range() function\n",
        "We can generate sequence of numbers using range() function. range(10) will generate numbers from 0 to 9"
      ],
      "metadata": {
        "id": "q7UkNV2Wh2bK"
      },
      "id": "q7UkNV2Wh2bK"
    },
    {
      "cell_type": "code",
      "source": [
        "for i in range(10):\n",
        "  print(i)\n",
        "  "
      ],
      "metadata": {
        "colab": {
          "base_uri": "https://localhost:8080/"
        },
        "id": "icBvZb80iGlm",
        "outputId": "8be7f2d5-1dbb-49e4-8fd6-29f980dbdb31"
      },
      "id": "icBvZb80iGlm",
      "execution_count": null,
      "outputs": [
        {
          "output_type": "stream",
          "name": "stdout",
          "text": [
            "0\n",
            "1\n",
            "2\n",
            "3\n",
            "4\n",
            "5\n",
            "6\n",
            "7\n",
            "8\n",
            "9\n"
          ]
        }
      ]
    },
    {
      "cell_type": "code",
      "source": [
        "#print the range of numbers from 1 to 20 with step size of 2\n",
        "for i in range(1, 20, 2): # 1 Arg-> starting, 2 Arg-> is ending, 3 Arg-> is step size\n",
        "  print(i)"
      ],
      "metadata": {
        "colab": {
          "base_uri": "https://localhost:8080/"
        },
        "id": "f9gYg0z3iMjA",
        "outputId": "34abf80b-92df-42e2-e2da-a5afbe810d58"
      },
      "id": "f9gYg0z3iMjA",
      "execution_count": null,
      "outputs": [
        {
          "output_type": "stream",
          "name": "stdout",
          "text": [
            "1\n",
            "3\n",
            "5\n",
            "7\n",
            "9\n",
            "11\n",
            "13\n",
            "15\n",
            "17\n",
            "19\n"
          ]
        }
      ]
    },
    {
      "cell_type": "code",
      "source": [
        " for i in range(0, 20, 5):\n",
        "   print(i)"
      ],
      "metadata": {
        "colab": {
          "base_uri": "https://localhost:8080/"
        },
        "id": "aNXyOxhliaW3",
        "outputId": "857af65f-280e-4364-cd00-b7be662afbb6"
      },
      "id": "aNXyOxhliaW3",
      "execution_count": null,
      "outputs": [
        {
          "output_type": "stream",
          "name": "stdout",
          "text": [
            "0\n",
            "5\n",
            "10\n",
            "15\n"
          ]
        }
      ]
    },
    {
      "cell_type": "code",
      "source": [
        "lst = [\"Pritesh\", \"Nikhil\", \"Amlan\", \"Amar\", \"Jimmy\"]\n",
        "\n",
        "#iterate over the list using index\n",
        "for index in range(len(lst)):\n",
        "  print(lst[index])\n",
        "print(\"\\n\")\n",
        "for item in lst:\n",
        "  print(item)"
      ],
      "metadata": {
        "colab": {
          "base_uri": "https://localhost:8080/"
        },
        "id": "pgR6Xif6i9D-",
        "outputId": "08832c41-6bc7-49d3-afba-9fa7361cabcf"
      },
      "id": "pgR6Xif6i9D-",
      "execution_count": null,
      "outputs": [
        {
          "output_type": "stream",
          "name": "stdout",
          "text": [
            "Pritesh\n",
            "Nikhil\n",
            "Amlan\n",
            "Amar\n",
            "Jimmy\n",
            "\n",
            "\n",
            "Pritesh\n",
            "Nikhil\n",
            "Amlan\n",
            "Amar\n",
            "Jimmy\n"
          ]
        }
      ]
    },
    {
      "cell_type": "code",
      "source": [
        "numbers = [1, 2, 3]\n",
        "\n",
        "#iterating over the list\n",
        "for item in numbers:\n",
        "  print(item)\n",
        "else:\n",
        "  print(\"no item left to print\")\n"
      ],
      "metadata": {
        "colab": {
          "base_uri": "https://localhost:8080/"
        },
        "id": "d-pWMb9-jR0n",
        "outputId": "dbbb54e1-29f1-428e-9dbc-3d6ba694f656"
      },
      "id": "d-pWMb9-jR0n",
      "execution_count": null,
      "outputs": [
        {
          "output_type": "stream",
          "name": "stdout",
          "text": [
            "1\n",
            "2\n",
            "3\n",
            "no item left to print\n"
          ]
        }
      ]
    },
    {
      "cell_type": "markdown",
      "source": [
        "# Python program to display all prime numbers within an interval\n"
      ],
      "metadata": {
        "id": "vn1pF9WtkBje"
      },
      "id": "vn1pF9WtkBje"
    },
    {
      "cell_type": "code",
      "source": [
        "import math\n",
        "index1 = 10\n",
        "index2 = 50\n",
        "\n",
        "print(\"Prime numbers between {0} and {1} are :\".format(index1,index2))\n",
        "\n",
        "for num in range(index1, index2+1):\n",
        "  if num > 1:\n",
        "    isDivisible = False\n",
        "    for index in range(2, int(math.ceil(math.sqrt(num)))+1):\n",
        "      if num % index == 0:\n",
        "        isDivisible = True\n",
        "    if not isDivisible:\n",
        "      print(num)\n"
      ],
      "metadata": {
        "colab": {
          "base_uri": "https://localhost:8080/"
        },
        "id": "dWBRjt1pkI7t",
        "outputId": "fe2ae2ce-60ad-43d1-aca8-1457db5a9a94"
      },
      "id": "dWBRjt1pkI7t",
      "execution_count": null,
      "outputs": [
        {
          "output_type": "stream",
          "name": "stdout",
          "text": [
            "Prime numbers between 10 and 50 are :\n",
            "11\n",
            "13\n",
            "17\n",
            "19\n",
            "23\n",
            "29\n",
            "31\n",
            "37\n",
            "41\n",
            "43\n",
            "47\n"
          ]
        }
      ]
    },
    {
      "cell_type": "markdown",
      "source": [
        "# Python break and continue statements\n",
        "\n",
        "In Python, break and continue statements can alter the flow of a normal loop.\n",
        "\n",
        "Loops iterate over a block of code until test expression is false, but sometimes we wish to terminate the currnet iteration or even the whole loop without checking test exepression.\n",
        "\n",
        "The break and continue statements are use in these cases.\n"
      ],
      "metadata": {
        "id": "dwJB8KHxmfkB"
      },
      "id": "dwJB8KHxmfkB"
    },
    {
      "cell_type": "code",
      "source": [
        "num = int(input(\"Enter a number: \"))\n",
        "\n",
        "isDivisible = False;\n",
        "\n",
        "i = 2\n",
        "while i < num:\n",
        "  if num % i == 0:\n",
        "    isDivisible = True\n",
        "    print(\"{} is divisible by {}\".format(num, i))\n",
        "    break\n",
        "  i += 1\n",
        "if isDivisible:\n",
        "  print(\"{} is NOT a PRIME number\".format(num))\n",
        "else:\n",
        "  print(\"{} is a PRIME number\".format(num))"
      ],
      "metadata": {
        "colab": {
          "base_uri": "https://localhost:8080/"
        },
        "id": "j1Jbk7W2nBdk",
        "outputId": "f17e6bec-94c7-4cfe-b6d1-3439cd821694"
      },
      "id": "j1Jbk7W2nBdk",
      "execution_count": null,
      "outputs": [
        {
          "output_type": "stream",
          "name": "stdout",
          "text": [
            "Enter a number: 23\n",
            "23 is a PRIME number\n"
          ]
        }
      ]
    },
    {
      "cell_type": "code",
      "source": [
        ""
      ],
      "metadata": {
        "id": "Ez6qj6fdoa6z"
      },
      "id": "Ez6qj6fdoa6z",
      "execution_count": null,
      "outputs": []
    },
    {
      "cell_type": "markdown",
      "source": [
        "**List **\n",
        "#Data Structure\n",
        "\n",
        "A data structure is a collection of data elements (such as numbers or characters or even other data structures) that is structured in some way for example, by numbering the elements. The most basic data structure in Python is the sequence.\n",
        "\n",
        "-> List is one of the Sequence Data structure\n",
        "\n",
        "-> List are collection of items (Strings, integer or even other list)\n",
        "\n",
        "-> List are enclosed in [ ]\n",
        "\n",
        "-> Each item in the list has an assigned index value.\n",
        "\n",
        "-> Each item in a list is separated by a comma \n",
        "\n",
        "-> List are **mutable**, which means they can be changed\n",
        "\n",
        "# **List Creation**\n",
        "\n"
      ],
      "metadata": {
        "id": "nioZL15eD_2m"
      },
      "id": "nioZL15eD_2m"
    },
    {
      "cell_type": "code",
      "source": [
        "emptyList = [], \n",
        "\n",
        "Lst = ['one', 'two', 'three', 'four'] # List of strings\n",
        "\n",
        "lst2 = [1, 2, 3, 4] # List of integers\n",
        "\n",
        "lst3 = [[1, 2], [3, 4]] # list of list\n",
        "\n",
        "lst4 = [1, 'Pritesh', 24, 1.24] # list of different datatypes\n",
        "\n",
        "print(lst4)\n",
        "print(type(Lst))"
      ],
      "metadata": {
        "colab": {
          "base_uri": "https://localhost:8080/"
        },
        "id": "dNKxicY_Fjlu",
        "outputId": "390e3f80-8a8d-49e6-e5ad-6a1e7148d018"
      },
      "id": "dNKxicY_Fjlu",
      "execution_count": 3,
      "outputs": [
        {
          "output_type": "stream",
          "name": "stdout",
          "text": [
            "[1, 'Pritesh', 24, 1.24]\n",
            "<class 'list'>\n"
          ]
        }
      ]
    },
    {
      "cell_type": "markdown",
      "source": [
        "# **List Lenght**"
      ],
      "metadata": {
        "id": "nq_PmKU3GTw_"
      },
      "id": "nq_PmKU3GTw_"
    },
    {
      "cell_type": "code",
      "source": [
        "lst = ['one', 'two', 'three', 'four']\n",
        "\n",
        "#find length of a list\n",
        "print(len(lst))"
      ],
      "metadata": {
        "colab": {
          "base_uri": "https://localhost:8080/"
        },
        "id": "RQXoFZQyGYdt",
        "outputId": "acbe3cc1-b430-4cf9-b422-0dbbcc263ca7"
      },
      "id": "RQXoFZQyGYdt",
      "execution_count": 4,
      "outputs": [
        {
          "output_type": "stream",
          "name": "stdout",
          "text": [
            "4\n"
          ]
        }
      ]
    },
    {
      "cell_type": "markdown",
      "source": [
        " # List Apppend"
      ],
      "metadata": {
        "id": "0iim52OLGtyY"
      },
      "id": "0iim52OLGtyY"
    },
    {
      "cell_type": "code",
      "source": [
        "lst = ['one', 'two', 'three', 'four']\n",
        "\n",
        "lst.append('five') #append will add the item at the end\n",
        "\n",
        "print(lst)"
      ],
      "metadata": {
        "colab": {
          "base_uri": "https://localhost:8080/"
        },
        "id": "qAfo5LcGGw0S",
        "outputId": "daf5472b-a8b1-418e-eb04-055e187d266a"
      },
      "id": "qAfo5LcGGw0S",
      "execution_count": 5,
      "outputs": [
        {
          "output_type": "stream",
          "name": "stdout",
          "text": [
            "['one', 'two', 'three', 'four', 'five']\n"
          ]
        }
      ]
    },
    {
      "cell_type": "markdown",
      "source": [
        "# List insert"
      ],
      "metadata": {
        "id": "WRVekDqNG_Yw"
      },
      "id": "WRVekDqNG_Yw"
    },
    {
      "cell_type": "code",
      "source": [
        "# syntax lst.insert(x, y)\n",
        "\n",
        "lst = ['one', 'two', 'four']\n",
        "\n",
        "lst.insert(2, 'three')\n",
        "\n",
        "print(lst)"
      ],
      "metadata": {
        "colab": {
          "base_uri": "https://localhost:8080/"
        },
        "id": "hRUHuj7GHB9k",
        "outputId": "1f9195e6-0cc2-4f2b-bb64-199e08ccea9a"
      },
      "id": "hRUHuj7GHB9k",
      "execution_count": 6,
      "outputs": [
        {
          "output_type": "stream",
          "name": "stdout",
          "text": [
            "['one', 'two', 'three', 'four']\n"
          ]
        }
      ]
    },
    {
      "cell_type": "markdown",
      "source": [
        "# List Remove"
      ],
      "metadata": {
        "id": "wMgPkCeAHS-9"
      },
      "id": "wMgPkCeAHS-9"
    },
    {
      "cell_type": "code",
      "source": [
        " # syntax lst.remove(x)\n",
        " lst = ['one', 'two', 'three', 'four', 'two']\n",
        "\n",
        " lst.remove('two')\n",
        " print(lst)"
      ],
      "metadata": {
        "colab": {
          "base_uri": "https://localhost:8080/"
        },
        "id": "gGgbOgfFHYWo",
        "outputId": "03a6e9df-e6ee-47df-b52b-a502d096b27a"
      },
      "id": "gGgbOgfFHYWo",
      "execution_count": 10,
      "outputs": [
        {
          "output_type": "stream",
          "name": "stdout",
          "text": [
            "['one', 'three', 'four', 'two']\n"
          ]
        }
      ]
    },
    {
      "cell_type": "markdown",
      "source": [
        "# List Append and Extend"
      ],
      "metadata": {
        "id": "_NMAEtBGIB4G"
      },
      "id": "_NMAEtBGIB4G"
    },
    {
      "cell_type": "code",
      "source": [
        "lst = ['one', 'two', 'three', 'four']\n",
        "lst1 = ['one', 'two', 'three', 'four']\n",
        "\n",
        "lst2 = ['five', 'six']\n",
        "\n",
        "#append\n",
        "lst.append(lst2)\n",
        "print(lst)\n",
        "lst1.extend(lst2)\n",
        "print(lst1)\n"
      ],
      "metadata": {
        "colab": {
          "base_uri": "https://localhost:8080/"
        },
        "id": "5zlIp2_XHkaf",
        "outputId": "0da575a0-e057-4a88-db34-0619dce93410"
      },
      "id": "5zlIp2_XHkaf",
      "execution_count": 14,
      "outputs": [
        {
          "output_type": "stream",
          "name": "stdout",
          "text": [
            "['one', 'two', 'three', 'four', ['five', 'six']]\n",
            "['one', 'two', 'three', 'four', 'five', 'six']\n"
          ]
        }
      ]
    },
    {
      "cell_type": "markdown",
      "source": [
        "# List Delete"
      ],
      "metadata": {
        "id": "ly0H7kbnIsBm"
      },
      "id": "ly0H7kbnIsBm"
    },
    {
      "cell_type": "code",
      "source": [
        "# del to remove item based on index position\n",
        "\n",
        "lst = ['one', 'two', 'three', 'four', 'five']\n",
        "\n",
        "del lst[1]\n",
        "print(lst)\n",
        "\n",
        "#or we can use pop() method\n",
        "\n",
        "a = lst.pop(2)\n",
        "print(a)\n",
        "print(lst)"
      ],
      "metadata": {
        "colab": {
          "base_uri": "https://localhost:8080/"
        },
        "id": "NlWnzEcUIRR4",
        "outputId": "515a23cc-a66e-4b7b-f205-018489634786"
      },
      "id": "NlWnzEcUIRR4",
      "execution_count": 16,
      "outputs": [
        {
          "output_type": "stream",
          "name": "stdout",
          "text": [
            "['one', 'three', 'four', 'five']\n",
            "four\n",
            "['one', 'three', 'five']\n"
          ]
        }
      ]
    },
    {
      "cell_type": "code",
      "source": [
        "lst = ['one', 'two', 'three', 'four']\n",
        "\n",
        "#remove an item from list\n",
        "lst.remove('three')\n",
        "\n",
        "print(lst)"
      ],
      "metadata": {
        "colab": {
          "base_uri": "https://localhost:8080/"
        },
        "id": "Ui4-tC7wJGjs",
        "outputId": "589d4e5c-6c00-415c-a2d4-722076e8ec42"
      },
      "id": "Ui4-tC7wJGjs",
      "execution_count": 17,
      "outputs": [
        {
          "output_type": "stream",
          "name": "stdout",
          "text": [
            "['one', 'two', 'four']\n"
          ]
        }
      ]
    },
    {
      "cell_type": "markdown",
      "source": [
        "# **List related Keyword in Python**"
      ],
      "metadata": {
        "id": "YbOIUZcrKOSy"
      },
      "id": "YbOIUZcrKOSy"
    },
    {
      "cell_type": "code",
      "source": [
        "#keyword 'in' is used to test if an item is in a list\n",
        "\n",
        "lst = ['one', 'two', 'three', 'four']\n",
        "\n",
        "if 'two' in lst:\n",
        "  print('YaY!!')\n",
        "\n",
        "#Keyword not can be combined with 'in'\n",
        "\n",
        "if 'six' not in lst:\n",
        "  print('NaY!!!!')"
      ],
      "metadata": {
        "colab": {
          "base_uri": "https://localhost:8080/"
        },
        "id": "mdk8AEQ_JdiD",
        "outputId": "062e2abf-2e3a-4ae9-a207-3c4c7880ddda"
      },
      "id": "mdk8AEQ_JdiD",
      "execution_count": 19,
      "outputs": [
        {
          "output_type": "stream",
          "name": "stdout",
          "text": [
            "YaY!!\n",
            "NaY!!!!\n"
          ]
        }
      ]
    },
    {
      "cell_type": "markdown",
      "source": [
        "#**List reverse**"
      ],
      "metadata": {
        "id": "PAJMLKZdK47j"
      },
      "id": "PAJMLKZdK47j"
    },
    {
      "cell_type": "code",
      "source": [
        "# Reverse the entire list\n",
        "lst = ['one', 'two', 'three', 'four']\n",
        "\n",
        "lst.reverse()\n",
        "print(lst)"
      ],
      "metadata": {
        "colab": {
          "base_uri": "https://localhost:8080/"
        },
        "id": "XuD3n78hKiyU",
        "outputId": "a7987d98-a9e7-403f-a92e-dca69da52867"
      },
      "id": "XuD3n78hKiyU",
      "execution_count": 20,
      "outputs": [
        {
          "output_type": "stream",
          "name": "stdout",
          "text": [
            "['four', 'three', 'two', 'one']\n"
          ]
        }
      ]
    },
    {
      "cell_type": "markdown",
      "source": [
        "# **List Sorting**\n",
        "\n",
        "The easiest way to sort a list is with the sorted(list) function.\n",
        "\n",
        "That takes a list and returns a new list with those elements in sorted order"
      ],
      "metadata": {
        "id": "sghSslouLJkL"
      },
      "id": "sghSslouLJkL"
    },
    {
      "cell_type": "code",
      "source": [
        "numbers = [3, 1, 6, 2, 8]\n",
        "\n",
        "sorted_lst = sorted(numbers)\n",
        "\n",
        "print(\"Unsorted list: \", numbers)\n",
        "print(\"Sorted list: \", sorted_lst)\n"
      ],
      "metadata": {
        "colab": {
          "base_uri": "https://localhost:8080/"
        },
        "id": "fUt2eMH_LH-a",
        "outputId": "7e0b8274-84bc-4d47-b877-422cd736070b"
      },
      "id": "fUt2eMH_LH-a",
      "execution_count": 21,
      "outputs": [
        {
          "output_type": "stream",
          "name": "stdout",
          "text": [
            "Unsorted list:  [3, 1, 6, 2, 8]\n",
            "Sorted list:  [1, 2, 3, 6, 8]\n"
          ]
        }
      ]
    },
    {
      "cell_type": "code",
      "source": [
        "# print a list in reverse sorted ordrer\n",
        "print(\"Reverse sorted list :\", sorted(numbers, reverse = True))\n",
        "\n",
        "#Original list remains unchanged\n",
        "print(\"Original list :\", numbers)"
      ],
      "metadata": {
        "colab": {
          "base_uri": "https://localhost:8080/"
        },
        "id": "-GMKZOIfLzsC",
        "outputId": "6880580c-81b7-4aa0-8b9b-e4932d06f77e"
      },
      "id": "-GMKZOIfLzsC",
      "execution_count": 23,
      "outputs": [
        {
          "output_type": "stream",
          "name": "stdout",
          "text": [
            "Reverse sorted list : [8, 6, 3, 2, 1]\n",
            "Original list : [3, 1, 6, 2, 8]\n"
          ]
        }
      ]
    },
    {
      "cell_type": "code",
      "source": [
        "lst = [1, 20, 5, 5, 2.3, 4.2]\n",
        "\n",
        "#sort the list and stored in itself\n",
        "\n",
        "lst.sort()\n",
        "print(\"Sorted list: \", lst)\n",
        "lst.sort(reverse = True)\n",
        "print(\"Sorted list: \", lst)"
      ],
      "metadata": {
        "colab": {
          "base_uri": "https://localhost:8080/"
        },
        "id": "XJrFroZOMDm_",
        "outputId": "fb3806c8-6c6b-441e-8d4f-509861bc154f"
      },
      "id": "XJrFroZOMDm_",
      "execution_count": 27,
      "outputs": [
        {
          "output_type": "stream",
          "name": "stdout",
          "text": [
            "Sorted list:  [1, 2.3, 4.2, 5, 5, 20]\n",
            "Sorted list:  [20, 5, 5, 4.2, 2.3, 1]\n"
          ]
        }
      ]
    },
    {
      "cell_type": "code",
      "source": [
        "#this wil throw error\n",
        "lst = [1, 20, 'b', 'a', 5]\n",
        "print(lst.sort())"
      ],
      "metadata": {
        "colab": {
          "base_uri": "https://localhost:8080/",
          "height": 200
        },
        "id": "6C1R32eOMqLb",
        "outputId": "4d8ecc35-0085-45b6-f636-b8cb38801669"
      },
      "id": "6C1R32eOMqLb",
      "execution_count": 25,
      "outputs": [
        {
          "output_type": "error",
          "ename": "TypeError",
          "evalue": "ignored",
          "traceback": [
            "\u001b[0;31m---------------------------------------------------------------------------\u001b[0m",
            "\u001b[0;31mTypeError\u001b[0m                                 Traceback (most recent call last)",
            "\u001b[0;32m<ipython-input-25-e30a39f52f88>\u001b[0m in \u001b[0;36m<module>\u001b[0;34m()\u001b[0m\n\u001b[1;32m      1\u001b[0m \u001b[0;31m#this wil throw error\u001b[0m\u001b[0;34m\u001b[0m\u001b[0;34m\u001b[0m\u001b[0;34m\u001b[0m\u001b[0m\n\u001b[1;32m      2\u001b[0m \u001b[0mlst\u001b[0m \u001b[0;34m=\u001b[0m \u001b[0;34m[\u001b[0m\u001b[0;36m1\u001b[0m\u001b[0;34m,\u001b[0m \u001b[0;36m20\u001b[0m\u001b[0;34m,\u001b[0m \u001b[0;34m'b'\u001b[0m\u001b[0;34m,\u001b[0m \u001b[0;34m'a'\u001b[0m\u001b[0;34m,\u001b[0m \u001b[0;36m5\u001b[0m\u001b[0;34m]\u001b[0m\u001b[0;34m\u001b[0m\u001b[0;34m\u001b[0m\u001b[0m\n\u001b[0;32m----> 3\u001b[0;31m \u001b[0mprint\u001b[0m\u001b[0;34m(\u001b[0m\u001b[0mlst\u001b[0m\u001b[0;34m.\u001b[0m\u001b[0msort\u001b[0m\u001b[0;34m(\u001b[0m\u001b[0;34m)\u001b[0m\u001b[0;34m)\u001b[0m\u001b[0;34m\u001b[0m\u001b[0;34m\u001b[0m\u001b[0m\n\u001b[0m",
            "\u001b[0;31mTypeError\u001b[0m: '<' not supported between instances of 'str' and 'int'"
          ]
        }
      ]
    },
    {
      "cell_type": "markdown",
      "source": [
        "#**List Having Multiple References**\n"
      ],
      "metadata": {
        "id": "eza_dg-mNDf3"
      },
      "id": "eza_dg-mNDf3"
    },
    {
      "cell_type": "code",
      "source": [
        "lst = [1, 2, 3, 4, 5]\n",
        "abc = lst # This will simply point to the memory location of lst\n",
        "abc.append(6)\n",
        "\n",
        "#print original list\n",
        "print(\"Original List\", lst)"
      ],
      "metadata": {
        "colab": {
          "base_uri": "https://localhost:8080/"
        },
        "id": "yg0xFD-xM2eE",
        "outputId": "0c463560-ff32-4e71-8d62-d1dd4177e9c3"
      },
      "id": "yg0xFD-xM2eE",
      "execution_count": 29,
      "outputs": [
        {
          "output_type": "stream",
          "name": "stdout",
          "text": [
            "Original List [1, 2, 3, 4, 5, 6]\n"
          ]
        }
      ]
    },
    {
      "cell_type": "markdown",
      "source": [
        "#String Split to create a list"
      ],
      "metadata": {
        "id": "iuXGpE2zNq8x"
      },
      "id": "iuXGpE2zNq8x"
    },
    {
      "cell_type": "code",
      "source": [
        "#let's take a string\n",
        "\n",
        "s = \"one,two,three,four,five\"\n",
        "slst = s.split(',')\n",
        "print(slst)"
      ],
      "metadata": {
        "colab": {
          "base_uri": "https://localhost:8080/"
        },
        "id": "xyBL0EWNNf1g",
        "outputId": "1d1463f0-6b4e-465d-dccb-b4eecc382588"
      },
      "id": "xyBL0EWNNf1g",
      "execution_count": 30,
      "outputs": [
        {
          "output_type": "stream",
          "name": "stdout",
          "text": [
            "['one', 'two', 'three', 'four', 'five']\n"
          ]
        }
      ]
    },
    {
      "cell_type": "code",
      "source": [
        "s = \"This is Pritesh Kumar Verma\"\n",
        "\n",
        "split_lst = s.split() #default split is white-character: space or tab\n",
        "\n",
        "print(split_lst)"
      ],
      "metadata": {
        "colab": {
          "base_uri": "https://localhost:8080/"
        },
        "id": "TMVv_u4kN_QT",
        "outputId": "78611161-b9d8-4d36-a008-f702dfcaed90"
      },
      "id": "TMVv_u4kN_QT",
      "execution_count": 31,
      "outputs": [
        {
          "output_type": "stream",
          "name": "stdout",
          "text": [
            "['This', 'is', 'Pritesh', 'Kumar', 'Verma']\n"
          ]
        }
      ]
    },
    {
      "cell_type": "markdown",
      "source": [
        "# **List indexing**\n",
        "\n",
        "Each item in the list has an assigned index value starting from 0.\n",
        "\n",
        "Accessing element in a list is called indexing"
      ],
      "metadata": {
        "id": "65J49HxXOZz4"
      },
      "id": "65J49HxXOZz4"
    },
    {
      "cell_type": "code",
      "source": [
        "lst = [1, 2, 3, 4]\n",
        "print(lst[1]) #print second element\n",
        "\n",
        "#print last element using negative index\n",
        "print(lst[-1])"
      ],
      "metadata": {
        "colab": {
          "base_uri": "https://localhost:8080/"
        },
        "id": "gaZY9WrzOWXq",
        "outputId": "27a76a88-238f-4436-c6cd-d6ad30d93398"
      },
      "id": "gaZY9WrzOWXq",
      "execution_count": 32,
      "outputs": [
        {
          "output_type": "stream",
          "name": "stdout",
          "text": [
            "2\n",
            "4\n"
          ]
        }
      ]
    },
    {
      "cell_type": "markdown",
      "source": [
        "#**List Slicing**\n",
        "\n",
        "Accessing parts of segments is called slicing"
      ],
      "metadata": {
        "id": "WMB1gIrwO9e9"
      },
      "id": "WMB1gIrwO9e9"
    },
    {
      "cell_type": "code",
      "source": [
        "numbers = [10, 20, 30, 40, 50, 60, 70, 80]\n",
        "\n",
        "#print all numbers\n",
        "print(numbers[:])\n",
        "\n",
        "#print from index 0 to index 3\n",
        "print(numbers[0:4])"
      ],
      "metadata": {
        "colab": {
          "base_uri": "https://localhost:8080/"
        },
        "id": "F4jXcX-iPAM-",
        "outputId": "f161ca3f-da15-42ed-96f0-632e2f91d0ac"
      },
      "id": "F4jXcX-iPAM-",
      "execution_count": 33,
      "outputs": [
        {
          "output_type": "stream",
          "name": "stdout",
          "text": [
            "[10, 20, 30, 40, 50, 60, 70, 80]\n",
            "[10, 20, 30, 40]\n"
          ]
        }
      ]
    },
    {
      "cell_type": "code",
      "source": [
        "print(numbers)\n",
        "#print alternate elements in list\n",
        "print(numbers[::2])\n",
        "\n",
        "#print elements start from 2 through rest of the list \n",
        "print(numbers[2::2]) "
      ],
      "metadata": {
        "colab": {
          "base_uri": "https://localhost:8080/"
        },
        "id": "x3I1TB7yPcO6",
        "outputId": "f20fea51-6002-4972-9abe-aea88dd58ae2"
      },
      "id": "x3I1TB7yPcO6",
      "execution_count": 37,
      "outputs": [
        {
          "output_type": "stream",
          "name": "stdout",
          "text": [
            "[10, 20, 30, 40, 50, 60, 70, 80]\n",
            "[10, 30, 50, 70]\n",
            "[30, 50, 70]\n"
          ]
        }
      ]
    },
    {
      "cell_type": "markdown",
      "source": [
        "#**List extend using \"+\"**\n"
      ],
      "metadata": {
        "id": "OEO_UQwRQGq6"
      },
      "id": "OEO_UQwRQGq6"
    },
    {
      "cell_type": "code",
      "source": [
        "lst1 = [1, 2, 3, 4]\n",
        "lst2 = ['Verma', 'Pritesh', 'Nikhil', 'Amlan', 'Amar']\n",
        "\n",
        "new_lst = lst1 + lst2\n",
        "print(new_lst)"
      ],
      "metadata": {
        "colab": {
          "base_uri": "https://localhost:8080/"
        },
        "id": "H34JUVR8Powg",
        "outputId": "73cadcff-1acf-40a0-c356-1157c7f4a7b2"
      },
      "id": "H34JUVR8Powg",
      "execution_count": 38,
      "outputs": [
        {
          "output_type": "stream",
          "name": "stdout",
          "text": [
            "[1, 2, 3, 4, 'Verma', 'Pritesh', 'Nikhil', 'Amlan', 'Amar']\n"
          ]
        }
      ]
    },
    {
      "cell_type": "markdown",
      "source": [
        "#List Count"
      ],
      "metadata": {
        "id": "O686NJpeR3u9"
      },
      "id": "O686NJpeR3u9"
    },
    {
      "cell_type": "code",
      "source": [
        "numbers = [1, 2, 3, 1, 3, 4, 2, 3, 3, 5]\n",
        "\n",
        "#frequency of 1 in a list\n",
        "print(numbers.count(1))\n",
        "\n",
        "#frequency of number 3 in a list\n",
        "print(numbers.count(3))"
      ],
      "metadata": {
        "colab": {
          "base_uri": "https://localhost:8080/"
        },
        "id": "qJ0u5O3JRzUs",
        "outputId": "eae926b6-0369-4659-b44e-1ede6f32631e"
      },
      "id": "qJ0u5O3JRzUs",
      "execution_count": 41,
      "outputs": [
        {
          "output_type": "stream",
          "name": "stdout",
          "text": [
            "2\n",
            "4\n"
          ]
        }
      ]
    },
    {
      "cell_type": "markdown",
      "source": [
        "#List Looping "
      ],
      "metadata": {
        "id": "IAXdIyKGSXHG"
      },
      "id": "IAXdIyKGSXHG"
    },
    {
      "cell_type": "code",
      "source": [
        "lst = ['one', 'two', 'three', 'four']\n",
        "\n",
        "for ele in Lst:\n",
        "  print(ele)"
      ],
      "metadata": {
        "colab": {
          "base_uri": "https://localhost:8080/"
        },
        "id": "KSyouJnwSHy5",
        "outputId": "80dced58-10f3-4975-9373-cf99e3319fc2"
      },
      "id": "KSyouJnwSHy5",
      "execution_count": 42,
      "outputs": [
        {
          "output_type": "stream",
          "name": "stdout",
          "text": [
            "one\n",
            "two\n",
            "three\n",
            "four\n"
          ]
        }
      ]
    },
    {
      "cell_type": "markdown",
      "source": [
        "#**List comprehensions**\n",
        "List comprehensions provieds a concise way to create lists.\n",
        "\n",
        "Common application are to make new list where each element is the result of some operation applied to each member of another sequence or iterable, or to create a subsequence  of those elements that satistfy a certai n condition.\n"
      ],
      "metadata": {
        "id": "gGGxMf9nSlCt"
      },
      "id": "gGGxMf9nSlCt"
    },
    {
      "cell_type": "code",
      "source": [
        "#without list comprehension\n",
        "squares = []\n",
        "for i in range(10):\n",
        "  squares.append(i**2)\n",
        "print(squares)"
      ],
      "metadata": {
        "colab": {
          "base_uri": "https://localhost:8080/"
        },
        "id": "0hW2ZmiBSjbm",
        "outputId": "af25a5a0-cc0c-4d73-ebd3-fb318e46318b"
      },
      "id": "0hW2ZmiBSjbm",
      "execution_count": 44,
      "outputs": [
        {
          "output_type": "stream",
          "name": "stdout",
          "text": [
            "[0, 1, 4, 9, 16, 25, 36, 49, 64, 81]\n"
          ]
        }
      ]
    },
    {
      "cell_type": "code",
      "source": [
        "# unsing list comprehension\n",
        "squares = [i**2 for i in range(10)]\n",
        "\n",
        "print(squares)"
      ],
      "metadata": {
        "colab": {
          "base_uri": "https://localhost:8080/"
        },
        "id": "_Hy-JMr5TbQY",
        "outputId": "20bda936-495c-4134-a2d5-62f77a39ced3"
      },
      "id": "_Hy-JMr5TbQY",
      "execution_count": 45,
      "outputs": [
        {
          "output_type": "stream",
          "name": "stdout",
          "text": [
            "[0, 1, 4, 9, 16, 25, 36, 49, 64, 81]\n"
          ]
        }
      ]
    },
    {
      "cell_type": "code",
      "source": [
        "#example\n",
        "\n",
        "lst = [-10, -20, 10, 20, 50]\n",
        "\n",
        "#create a new list with values doubled\n",
        "\n",
        "new_lst = [ele*2 for ele in lst]\n",
        "print(new_lst)\n",
        "\n",
        "#Filter the list to exclude negative numbers\n",
        "new_lst = [i for i in lst if i >= 0]\n",
        "print(new_lst)\n",
        "\n",
        "#create a list of tuples like (number, square_of_number)\n",
        "new_lst = [(i, i**2) for i in range(10)]\n",
        "print(new_lst)"
      ],
      "metadata": {
        "colab": {
          "base_uri": "https://localhost:8080/"
        },
        "id": "YVMYO7w1Tntt",
        "outputId": "063c5bd3-1af6-467a-d1f2-0baf5f4a2081"
      },
      "id": "YVMYO7w1Tntt",
      "execution_count": 48,
      "outputs": [
        {
          "output_type": "stream",
          "name": "stdout",
          "text": [
            "[-20, -40, 20, 40, 100]\n",
            "[10, 20, 50]\n",
            "[(0, 0), (1, 1), (2, 4), (3, 9), (4, 16), (5, 25), (6, 36), (7, 49), (8, 64), (9, 81)]\n"
          ]
        }
      ]
    },
    {
      "cell_type": "markdown",
      "source": [
        "#**Nested List Comprehensions**\n"
      ],
      "metadata": {
        "id": "slFkE-bNUtLZ"
      },
      "id": "slFkE-bNUtLZ"
    },
    {
      "cell_type": "code",
      "source": [
        "#let's suppose we have a matrix\n",
        "\n",
        "matrix = [\n",
        "          [1, 2, 3, 4],\n",
        "          [5, 6, 7, 8],\n",
        "          [9, 10, 11, 12]\n",
        "]\n",
        "\n",
        "#transpose of a matrix without list comprehension\n",
        "transposed = []\n",
        "for i in range(4):\n",
        "  lst = []\n",
        "  for row in matrix:\n",
        "    lst.append(row[i])\n",
        "  transposed.append(lst)\n",
        "print(transposed)"
      ],
      "metadata": {
        "colab": {
          "base_uri": "https://localhost:8080/"
        },
        "id": "rvtzhjlQUAUM",
        "outputId": "143343d4-6392-4ed3-b46f-c24a1fa5e9b0"
      },
      "id": "rvtzhjlQUAUM",
      "execution_count": 49,
      "outputs": [
        {
          "output_type": "stream",
          "name": "stdout",
          "text": [
            "[[1, 5, 9], [2, 6, 10], [3, 7, 11], [4, 8, 12]]\n"
          ]
        }
      ]
    },
    {
      "cell_type": "code",
      "source": [
        "# with list comprehension\n",
        "transposed = [[row[i] for row in matrix] for i in range(4)]\n",
        "print(transposed)\n",
        "\n",
        "# This is harder to read but concise"
      ],
      "metadata": {
        "colab": {
          "base_uri": "https://localhost:8080/"
        },
        "id": "9aU8vKiIVpcG",
        "outputId": "238ab138-1ae7-44a9-8d11-12004561991f"
      },
      "id": "9aU8vKiIVpcG",
      "execution_count": 52,
      "outputs": [
        {
          "output_type": "stream",
          "name": "stdout",
          "text": [
            "[[1, 5, 9], [2, 6, 10], [3, 7, 11], [4, 8, 12]]\n"
          ]
        }
      ]
    },
    {
      "cell_type": "code",
      "source": [
        ""
      ],
      "metadata": {
        "id": "k6RWFKTwWAQl"
      },
      "id": "k6RWFKTwWAQl",
      "execution_count": null,
      "outputs": []
    }
  ],
  "metadata": {
    "kernelspec": {
      "display_name": "Python 3",
      "language": "python",
      "name": "python3"
    },
    "language_info": {
      "codemirror_mode": {
        "name": "ipython",
        "version": 3
      },
      "file_extension": ".py",
      "mimetype": "text/x-python",
      "name": "python",
      "nbconvert_exporter": "python",
      "pygments_lexer": "ipython3",
      "version": "3.6.13"
    },
    "colab": {
      "name": "Trying out.ipynb",
      "provenance": [],
      "collapsed_sections": [],
      "include_colab_link": true
    }
  },
  "nbformat": 4,
  "nbformat_minor": 5
}