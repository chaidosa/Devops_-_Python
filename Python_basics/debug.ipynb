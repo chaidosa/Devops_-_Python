{
  "nbformat": 4,
  "nbformat_minor": 0,
  "metadata": {
    "colab": {
      "name": "debug.ipynb",
      "provenance": [],
      "authorship_tag": "ABX9TyNS7mJbtXoHO2Rw8m0XhhR1",
      "include_colab_link": true
    },
    "kernelspec": {
      "name": "python3",
      "display_name": "Python 3"
    },
    "language_info": {
      "name": "python"
    }
  },
  "cells": [
    {
      "cell_type": "markdown",
      "metadata": {
        "id": "view-in-github",
        "colab_type": "text"
      },
      "source": [
        "<a href=\"https://colab.research.google.com/github/priteshvermaa/Devops_-_Python/blob/master/Python_basics/debug.ipynb\" target=\"_parent\"><img src=\"https://colab.research.google.com/assets/colab-badge.svg\" alt=\"Open In Colab\"/></a>"
      ]
    },
    {
      "cell_type": "markdown",
      "source": [
        "#**Debugging**\n",
        "\n",
        "**pdb** implements an interactive debugging environment for Python programs. It includes features to let you pause your program, look at the values of variables, and watch program execution step-by-step, so you can understand what your program actually does and find bugs in the logic."
      ],
      "metadata": {
        "id": "dpw33yAs36QP"
      }
    },
    {
      "cell_type": "markdown",
      "source": [
        "#**Starting the Debugger**\n",
        "\n",
        "**From command line**"
      ],
      "metadata": {
        "id": "Njr1EPLa4g8k"
      }
    },
    {
      "cell_type": "code",
      "execution_count": 1,
      "metadata": {
        "colab": {
          "base_uri": "https://localhost:8080/"
        },
        "id": "C8QOxjrs35jB",
        "outputId": "115d10e1-1397-454d-e5b1-1b006d47101a"
      },
      "outputs": [
        {
          "output_type": "stream",
          "name": "stdout",
          "text": [
            "0\n",
            "1\n",
            "2\n",
            "3\n",
            "4\n"
          ]
        }
      ],
      "source": [
        "def seq(n):\n",
        "  for i in range(n):\n",
        "    print(i)\n",
        "  return\n",
        "\n",
        "seq(5)"
      ]
    },
    {
      "cell_type": "markdown",
      "source": [
        "**From Within your program**"
      ],
      "metadata": {
        "id": "ePTzjxBZ4wHD"
      }
    },
    {
      "cell_type": "code",
      "source": [
        "import pdb\n",
        "\n",
        "#interactive debugging \n",
        "def seq(n):\n",
        "  for i in range(n):\n",
        "    pdb.set_trace() #breakpoint\n",
        "    print(i)    \n",
        "  return\n",
        "\n",
        "seq(5)\n",
        "\n",
        "#c: continue\n",
        "#q: quit\n",
        "#list\n",
        "#p:print\n",
        "#p locals()\n",
        "#P globals()"
      ],
      "metadata": {
        "colab": {
          "base_uri": "https://localhost:8080/"
        },
        "id": "FmM9S4EO4t7H",
        "outputId": "ee17cce0-17e7-41de-8e98-4681c4296d8a"
      },
      "execution_count": 3,
      "outputs": [
        {
          "output_type": "stream",
          "name": "stdout",
          "text": [
            "> <ipython-input-3-92f65b11e01a>(7)seq()\n",
            "-> print(i)\n",
            "(Pdb) list\n",
            "  2  \t\n",
            "  3  \t#interactive debugging\n",
            "  4  \tdef seq(n):\n",
            "  5  \t  for i in range(n):\n",
            "  6  \t    pdb.set_trace() #breakpoint\n",
            "  7  ->\t    print(i)\n",
            "  8  \t  return\n",
            "  9  \t\n",
            " 10  \tseq(5)\n",
            " 11  \t\n",
            " 12  \t#c: continue\n",
            "(Pdb) p i\n",
            "0\n",
            "(Pdb) p n\n",
            "5\n",
            "(Pdb) p locals()\n",
            "{'n': 5, 'i': 0}\n",
            "(Pdb) c\n",
            "0\n",
            "> <ipython-input-3-92f65b11e01a>(6)seq()\n",
            "-> pdb.set_trace() #breakpoint\n",
            "(Pdb) c\n",
            "1\n",
            "> <ipython-input-3-92f65b11e01a>(7)seq()\n",
            "-> print(i)\n",
            "(Pdb) c\n",
            "2\n",
            "> <ipython-input-3-92f65b11e01a>(6)seq()\n",
            "-> pdb.set_trace() #breakpoint\n",
            "(Pdb) c\n",
            "3\n",
            "> <ipython-input-3-92f65b11e01a>(7)seq()\n",
            "-> print(i)\n",
            "(Pdb) \n",
            "(Pdb) c\n",
            "4\n"
          ]
        }
      ]
    },
    {
      "cell_type": "markdown",
      "source": [
        "# Debugger command"
      ],
      "metadata": {
        "id": "CMpbWYqo6Uoi"
      }
    },
    {
      "cell_type": "code",
      "source": [
        "#h(elp) [command]"
      ],
      "metadata": {
        "id": "J_l2Jy-j5EbX"
      },
      "execution_count": 5,
      "outputs": []
    },
    {
      "cell_type": "markdown",
      "source": [
        "without argument, print the list of available commands. with a command as argument, print help about that command. help pdb displas the full documentation (the docstring of the pdb module). Since the command argument must be an identifier, help exec must be entered to get help on the command"
      ],
      "metadata": {
        "id": "Im7KJrdg7A2_"
      }
    }
  ]
}