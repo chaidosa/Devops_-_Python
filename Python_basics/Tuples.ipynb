{
  "nbformat": 4,
  "nbformat_minor": 0,
  "metadata": {
    "colab": {
      "name": "Tuples.ipynb",
      "provenance": [],
      "collapsed_sections": [],
      "authorship_tag": "ABX9TyOE2sXlketfNne2LD7roZyN",
      "include_colab_link": true
    },
    "kernelspec": {
      "name": "python3",
      "display_name": "Python 3"
    },
    "language_info": {
      "name": "python"
    }
  },
  "cells": [
    {
      "cell_type": "markdown",
      "metadata": {
        "id": "view-in-github",
        "colab_type": "text"
      },
      "source": [
        "<a href=\"https://colab.research.google.com/github/priteshvermaa/Devops_-_Python/blob/master/Tuples.ipynb\" target=\"_parent\"><img src=\"https://colab.research.google.com/assets/colab-badge.svg\" alt=\"Open In Colab\"/></a>"
      ]
    },
    {
      "cell_type": "markdown",
      "source": [
        "#**Tuple** Data Structure\n",
        "\n",
        "-> A tuple is similar to list\n",
        "\n",
        "-> The difference between the two is that we can't change the element of tuple once it is assigned whereas in the list, elements can be changed\n",
        "\n"
      ],
      "metadata": {
        "id": "C7rHJmqfXrIX"
      }
    },
    {
      "cell_type": "markdown",
      "source": [
        "#**Tuple creation**"
      ],
      "metadata": {
        "id": "mjA_O3yVjcMM"
      }
    },
    {
      "cell_type": "code",
      "source": [
        "#empty tuple\n",
        "t = ()\n",
        "print(t)\n",
        "print(type(t))\n",
        "#tuple having integers\n",
        "\n",
        "t = (1, 2, 3)\n",
        "\n",
        "print(t)\n",
        "print(type(t))\n",
        "\n",
        "#tuple with mixed datatypes\n",
        "t = (1, 'rohan', '34', 'Dubai')\n",
        "print(t)\n",
        "\n",
        "#nested tuple\n",
        "t  = (1, (2, 3, 4), [1, 'rohan', '34', 'Dubai'])\n",
        "print(t)"
      ],
      "metadata": {
        "id": "DkBV3evkXyRN",
        "colab": {
          "base_uri": "https://localhost:8080/"
        },
        "outputId": "9a3827d9-5525-40bc-c793-d6f8dc169ff9"
      },
      "execution_count": 2,
      "outputs": [
        {
          "output_type": "stream",
          "name": "stdout",
          "text": [
            "()\n",
            "<class 'tuple'>\n",
            "(1, 2, 3)\n",
            "<class 'tuple'>\n",
            "(1, 'rohan', '34', 'Dubai')\n",
            "(1, (2, 3, 4), [1, 'rohan', '34', 'Dubai'])\n"
          ]
        }
      ]
    },
    {
      "cell_type": "code",
      "source": [
        " #only paranthesis is not enough\n",
        "\n",
        " t = (\"Amlan\")\n",
        " type(t)"
      ],
      "metadata": {
        "colab": {
          "base_uri": "https://localhost:8080/"
        },
        "id": "oRztmTvhjxge",
        "outputId": "e01fbc50-ebb0-4eef-f9fa-86442e578902"
      },
      "execution_count": 3,
      "outputs": [
        {
          "output_type": "execute_result",
          "data": {
            "text/plain": [
              "str"
            ]
          },
          "metadata": {},
          "execution_count": 3
        }
      ]
    },
    {
      "cell_type": "code",
      "source": [
        "#need a comma at the end\n",
        "\n",
        "t = (\"Amlan\", )\n",
        "type(t)"
      ],
      "metadata": {
        "colab": {
          "base_uri": "https://localhost:8080/"
        },
        "id": "3zoaNO0Ekfx2",
        "outputId": "62df2ba2-a686-4d64-d67b-2b812332eb73"
      },
      "execution_count": 4,
      "outputs": [
        {
          "output_type": "execute_result",
          "data": {
            "text/plain": [
              "tuple"
            ]
          },
          "metadata": {},
          "execution_count": 4
        }
      ]
    },
    {
      "cell_type": "code",
      "source": [
        "#parenthesis is optional\n",
        "t = \"Nikhil\",\n",
        "print(type(t))\n",
        "\n",
        "print(t)\n",
        "\n",
        "# when we have more than one element then there is no problem"
      ],
      "metadata": {
        "colab": {
          "base_uri": "https://localhost:8080/"
        },
        "id": "oF6gyO5AknlC",
        "outputId": "18386603-b3fb-4b4e-c3d8-747db6090f48"
      },
      "execution_count": 5,
      "outputs": [
        {
          "output_type": "stream",
          "name": "stdout",
          "text": [
            "<class 'tuple'>\n",
            "('Nikhil',)\n"
          ]
        }
      ]
    },
    {
      "cell_type": "markdown",
      "source": [
        "#**Accessing Elements in Tuple**"
      ],
      "metadata": {
        "id": "GA7y6TLrk6aa"
      }
    },
    {
      "cell_type": "code",
      "source": [
        "t = (\"Nikhil\", \"Pritesh\", \"Amlan\", \"Amar\", \"Varma\")\n",
        "\n",
        "print(t[1])"
      ],
      "metadata": {
        "colab": {
          "base_uri": "https://localhost:8080/"
        },
        "id": "XDXC0GZkk5Ev",
        "outputId": "c0f03006-fb62-4c53-e4b1-c0c2a570eb88"
      },
      "execution_count": 6,
      "outputs": [
        {
          "output_type": "stream",
          "name": "stdout",
          "text": [
            "Pritesh\n"
          ]
        }
      ]
    },
    {
      "cell_type": "code",
      "source": [
        "#negative index\n",
        "print(t[-1]) // print last element"
      ],
      "metadata": {
        "colab": {
          "base_uri": "https://localhost:8080/"
        },
        "id": "LyVARQB5lNOY",
        "outputId": "bc5c34b0-45ae-49d1-e784-abf82c846928"
      },
      "execution_count": 7,
      "outputs": [
        {
          "output_type": "stream",
          "name": "stdout",
          "text": [
            "Varma\n"
          ]
        }
      ]
    },
    {
      "cell_type": "code",
      "source": [
        "#nested tuple\n",
        "t = ('PQR', (\"Pritesh\", \"Nikhil\", \"Amlan\"))\n",
        "print(t[0])\n",
        "\n",
        "print(t[1])\n",
        "\n",
        "print(t[1][2])"
      ],
      "metadata": {
        "colab": {
          "base_uri": "https://localhost:8080/"
        },
        "id": "Nvss6K3VlS0-",
        "outputId": "34c14680-2304-4481-fb5b-d322517988f5"
      },
      "execution_count": 11,
      "outputs": [
        {
          "output_type": "stream",
          "name": "stdout",
          "text": [
            "PQR\n",
            "('Pritesh', 'Nikhil', 'Amlan')\n",
            "Amlan\n"
          ]
        }
      ]
    },
    {
      "cell_type": "code",
      "source": [
        "#Slicing\n",
        "t = (1, 2, 3, 4, 5, 6)\n",
        "\n",
        "print(t[1:4])\n",
        "\n",
        "#print elements from starting to 2nd lst elements\n",
        "print(t[:-2])\n",
        "\n",
        "#print elements from starting to end\n",
        "print(t[:])"
      ],
      "metadata": {
        "colab": {
          "base_uri": "https://localhost:8080/"
        },
        "id": "dqKzld1PlnnB",
        "outputId": "018ec1bf-4c7b-4713-f1de-d22d8b9175ef"
      },
      "execution_count": 13,
      "outputs": [
        {
          "output_type": "stream",
          "name": "stdout",
          "text": [
            "(2, 3, 4)\n",
            "(1, 2, 3, 4)\n",
            "(1, 2, 3, 4, 5, 6)\n"
          ]
        }
      ]
    },
    {
      "cell_type": "markdown",
      "source": [
        "#**Changing a Tuple**\n",
        "\n",
        "-> Unlike list, tuples are immutable\n",
        "\n",
        "-> This means that element of a tuple cannot be changed once it has been assigned. But, if the element itself a mutable datatype like list, its nested items can be changed."
      ],
      "metadata": {
        "id": "rLujW8KJmUJr"
      }
    },
    {
      "cell_type": "code",
      "source": [
        "#creating a tuple\n",
        "t = (1, 2, 3, 4, [5, 6, 7])\n",
        "\n",
        "t[2] = 'x' #will get TypeError"
      ],
      "metadata": {
        "colab": {
          "base_uri": "https://localhost:8080/",
          "height": 200
        },
        "id": "1-6CzjgWmKa7",
        "outputId": "43a28d63-df07-4869-d886-3e4c0a1f97e8"
      },
      "execution_count": 14,
      "outputs": [
        {
          "output_type": "error",
          "ename": "TypeError",
          "evalue": "ignored",
          "traceback": [
            "\u001b[0;31m---------------------------------------------------------------------------\u001b[0m",
            "\u001b[0;31mTypeError\u001b[0m                                 Traceback (most recent call last)",
            "\u001b[0;32m<ipython-input-14-886c8577a3ef>\u001b[0m in \u001b[0;36m<module>\u001b[0;34m()\u001b[0m\n\u001b[1;32m      2\u001b[0m \u001b[0mt\u001b[0m \u001b[0;34m=\u001b[0m \u001b[0;34m(\u001b[0m\u001b[0;36m1\u001b[0m\u001b[0;34m,\u001b[0m \u001b[0;36m2\u001b[0m\u001b[0;34m,\u001b[0m \u001b[0;36m3\u001b[0m\u001b[0;34m,\u001b[0m \u001b[0;36m4\u001b[0m\u001b[0;34m,\u001b[0m \u001b[0;34m[\u001b[0m\u001b[0;36m5\u001b[0m\u001b[0;34m,\u001b[0m \u001b[0;36m6\u001b[0m\u001b[0;34m,\u001b[0m \u001b[0;36m7\u001b[0m\u001b[0;34m]\u001b[0m\u001b[0;34m)\u001b[0m\u001b[0;34m\u001b[0m\u001b[0;34m\u001b[0m\u001b[0m\n\u001b[1;32m      3\u001b[0m \u001b[0;34m\u001b[0m\u001b[0m\n\u001b[0;32m----> 4\u001b[0;31m \u001b[0mt\u001b[0m\u001b[0;34m[\u001b[0m\u001b[0;36m2\u001b[0m\u001b[0;34m]\u001b[0m \u001b[0;34m=\u001b[0m \u001b[0;34m'x'\u001b[0m \u001b[0;31m#will get TypeError\u001b[0m\u001b[0;34m\u001b[0m\u001b[0;34m\u001b[0m\u001b[0m\n\u001b[0m",
            "\u001b[0;31mTypeError\u001b[0m: 'tuple' object does not support item assignment"
          ]
        }
      ]
    },
    {
      "cell_type": "code",
      "source": [
        "t = (1, 2, 3, 4, [5, 6, 7])\n",
        "\n",
        "t[4][1] = \"Pritesh\" #it let's you do that because list is mutable, basically here [5, 6, 7] is\n",
        "                    #of type list and we aren't changing the type\n",
        "\n",
        "print(t)"
      ],
      "metadata": {
        "colab": {
          "base_uri": "https://localhost:8080/"
        },
        "id": "isWjrHQ7nFHf",
        "outputId": "d360c448-6c08-4380-d3c5-b4343e78cce8"
      },
      "execution_count": 15,
      "outputs": [
        {
          "output_type": "stream",
          "name": "stdout",
          "text": [
            "(1, 2, 3, 4, [5, 'Pritesh', 7])\n"
          ]
        }
      ]
    },
    {
      "cell_type": "code",
      "source": [
        "#concatinating tuples\n",
        "t = (1, 2, 3) + (4, 5, 6)\n",
        "\n",
        "print(t)\n"
      ],
      "metadata": {
        "colab": {
          "base_uri": "https://localhost:8080/"
        },
        "id": "F8aPnvu-nVAq",
        "outputId": "ad9c20a9-46b9-48ee-b0fd-b90b4b9a67ca"
      },
      "execution_count": 16,
      "outputs": [
        {
          "output_type": "stream",
          "name": "stdout",
          "text": [
            "(1, 2, 3, 4, 5, 6)\n"
          ]
        }
      ]
    },
    {
      "cell_type": "code",
      "source": [
        "#repeat the elements in a tuple for a given number of times using * operator\n",
        "t = (('Pritesh',)* 4)\n",
        "print(t)"
      ],
      "metadata": {
        "colab": {
          "base_uri": "https://localhost:8080/"
        },
        "id": "zfDTzYtyn5tA",
        "outputId": "03c1f523-9607-4f25-f5c8-8f0fb1a1e42b"
      },
      "execution_count": 17,
      "outputs": [
        {
          "output_type": "stream",
          "name": "stdout",
          "text": [
            "('Pritesh', 'Pritesh', 'Pritesh', 'Pritesh')\n"
          ]
        }
      ]
    },
    {
      "cell_type": "markdown",
      "source": [
        "#**Tuple Deletion**\n"
      ],
      "metadata": {
        "id": "HyP42DQioMZY"
      }
    },
    {
      "cell_type": "code",
      "source": [
        "#we cannot change the elements in a tuple \n",
        "# That also means we cannot delete or remove items from a tuple but we can delete the whole\n",
        "# tuple all together\n",
        "\n",
        "#delete entire tuple using del  keyword\n",
        "t = (1, 2, 3, 4, 5, 6)\n",
        "\n",
        "#delete entire tuple\n",
        "del t"
      ],
      "metadata": {
        "id": "7TNVfsn-oJFA"
      },
      "execution_count": 19,
      "outputs": []
    },
    {
      "cell_type": "markdown",
      "source": [
        "#**Tuple Count**"
      ],
      "metadata": {
        "id": "9sXsmBs2pAbz"
      }
    },
    {
      "cell_type": "code",
      "source": [
        "t = (1, 2, 3, 1, 3, 3, 4, 1)\n",
        "\n",
        "#get the frequency of particular element appears in a tuple\n",
        "\n",
        "t.count(1)"
      ],
      "metadata": {
        "colab": {
          "base_uri": "https://localhost:8080/"
        },
        "id": "02UZgeo1otvn",
        "outputId": "d5cfe264-e9d4-4028-a3eb-74433dbd834d"
      },
      "execution_count": 20,
      "outputs": [
        {
          "output_type": "execute_result",
          "data": {
            "text/plain": [
              "3"
            ]
          },
          "metadata": {},
          "execution_count": 20
        }
      ]
    },
    {
      "cell_type": "markdown",
      "source": [
        "#**Tuple Index**"
      ],
      "metadata": {
        "id": "Rs3_Z6QJpQda"
      }
    },
    {
      "cell_type": "code",
      "source": [
        "t = (1, 2, 3, 1, 3, 3, 4, 1)\n",
        "\n",
        "print(t.index(3)) # return index of first element is equal to 3\n",
        "\n",
        "#print the index pf 1\n",
        "print(t.index(1))"
      ],
      "metadata": {
        "colab": {
          "base_uri": "https://localhost:8080/"
        },
        "id": "9sNJEIwUpOo3",
        "outputId": "52aaa4f2-ca25-4b2b-a640-34dcda2b1eba"
      },
      "execution_count": 22,
      "outputs": [
        {
          "output_type": "stream",
          "name": "stdout",
          "text": [
            "2\n",
            "0\n"
          ]
        }
      ]
    },
    {
      "cell_type": "markdown",
      "source": [
        "#**Tuple Memebership**"
      ],
      "metadata": {
        "id": "_iPjH96cpvzT"
      }
    },
    {
      "cell_type": "code",
      "source": [
        "# test if an item exists in a tuple or not, using the keyword in.\n",
        "t = (1, 2, 3, 4, 5, 6)\n",
        "\n",
        "print(1 in t)\n",
        "print(7 in t)"
      ],
      "metadata": {
        "colab": {
          "base_uri": "https://localhost:8080/"
        },
        "id": "OSD5twGCpkoe",
        "outputId": "bc47c66d-29c5-4c39-c69f-ed296b91330b"
      },
      "execution_count": 25,
      "outputs": [
        {
          "output_type": "stream",
          "name": "stdout",
          "text": [
            "True\n",
            "False\n"
          ]
        }
      ]
    },
    {
      "cell_type": "markdown",
      "source": [
        "#**Built in Functions**\n",
        "\n"
      ],
      "metadata": {
        "id": "0cltDGDQqDh0"
      }
    },
    {
      "cell_type": "code",
      "source": [
        "t = (4, 5, 1, 2, 3)\n",
        "\n",
        "new_t = sorted(t)\n",
        "print(new_t) # Take elements in the tuple and return a new sorted list\n",
        "             # (doest not sort the tuple itself)\n",
        "print(type(new_t))\n"
      ],
      "metadata": {
        "colab": {
          "base_uri": "https://localhost:8080/"
        },
        "id": "erLZ1FPBqBnH",
        "outputId": "ce912f60-d3b4-4a78-8d3e-e17c0eebd3f2"
      },
      "execution_count": 29,
      "outputs": [
        {
          "output_type": "stream",
          "name": "stdout",
          "text": [
            "[1, 2, 3, 4, 5]\n",
            "<class 'list'>\n"
          ]
        }
      ]
    },
    {
      "cell_type": "code",
      "source": [
        "# Tuple length\n",
        "t = (4, 5, 1, 2, 3)\n",
        "print(len(t))"
      ],
      "metadata": {
        "colab": {
          "base_uri": "https://localhost:8080/"
        },
        "id": "irqqggtGqoKS",
        "outputId": "1a3e4e94-77aa-42e6-9bb8-b059ed84748a"
      },
      "execution_count": 30,
      "outputs": [
        {
          "output_type": "stream",
          "name": "stdout",
          "text": [
            "5\n"
          ]
        }
      ]
    },
    {
      "cell_type": "code",
      "source": [
        "#get the largest element in a tuple\n",
        "\n",
        "t = (2, 5, 1, 6, 9)\n",
        "\n",
        "print(max(t))"
      ],
      "metadata": {
        "colab": {
          "base_uri": "https://localhost:8080/"
        },
        "id": "NIeDPpeqq6jg",
        "outputId": "7a9e944d-01eb-477b-86de-129265dcfdc9"
      },
      "execution_count": 31,
      "outputs": [
        {
          "output_type": "stream",
          "name": "stdout",
          "text": [
            "9\n"
          ]
        }
      ]
    },
    {
      "cell_type": "code",
      "source": [
        "#get the smallest element in a tuple\n",
        "print(min(t))"
      ],
      "metadata": {
        "colab": {
          "base_uri": "https://localhost:8080/"
        },
        "id": "wYcdXRgOrFHd",
        "outputId": "16eb52f7-51bb-40ea-94c5-5b15b1b6dee1"
      },
      "execution_count": 32,
      "outputs": [
        {
          "output_type": "stream",
          "name": "stdout",
          "text": [
            "1\n"
          ]
        }
      ]
    },
    {
      "cell_type": "code",
      "source": [
        "#get sum of elements in the tuple\n",
        "print(sum(t))"
      ],
      "metadata": {
        "colab": {
          "base_uri": "https://localhost:8080/"
        },
        "id": "HRiTQZUJrKAq",
        "outputId": "382eccce-7dbb-480c-b833-61d83c0e63be"
      },
      "execution_count": 33,
      "outputs": [
        {
          "output_type": "stream",
          "name": "stdout",
          "text": [
            "23\n"
          ]
        }
      ]
    }
  ]
}