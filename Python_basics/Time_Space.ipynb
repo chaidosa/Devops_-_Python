{
 "cells": [
  {
   "cell_type": "code",
   "execution_count": 20,
   "id": "3a63b20f",
   "metadata": {},
   "outputs": [],
   "source": [
    "import numpy as np\n",
    "import random\n",
    "\n",
    "l = list(range(100))\n",
    "random.shuffle(l)\n",
    "#l"
   ]
  },
  {
   "cell_type": "code",
   "execution_count": 21,
   "id": "550f22f7",
   "metadata": {},
   "outputs": [
    {
     "name": "stdout",
     "output_type": "stream",
     "text": [
      "Found\n"
     ]
    }
   ],
   "source": [
    "# search for an element q in the list: O(n) where n is length of list\n",
    "q = 31\n",
    "isFound = False\n",
    "\n",
    "for ele in l:\n",
    "    if ele == q:\n",
    "        print(\"Found\")\n",
    "        isFound = True\n",
    "        break;\n",
    "\n",
    "if isFound == False:\n",
    "    print(\"Not Found\")"
   ]
  },
  {
   "cell_type": "code",
   "execution_count": 26,
   "id": "fe77886d",
   "metadata": {
    "scrolled": true
   },
   "outputs": [
    {
     "name": "stdout",
     "output_type": "stream",
     "text": [
      "[0, 1, 2, 3, 4, 5, 6, 7, 8, 9, 10, 11, 12, 13, 14, 15, 16, 17, 18, 19, 20, 21, 22, 23, 24, 25, 26, 27, 28, 29, 30, 31, 32, 33, 34, 35, 36, 37, 38, 39, 40, 41, 42, 43, 44, 45, 46, 47, 48, 49, 50, 51, 52, 53, 54, 55, 56, 57, 58, 59, 60, 61, 62, 63, 64, 65, 66, 67, 68, 69, 70, 71, 72, 73, 74, 75, 76, 77, 78, 79, 80, 81, 82, 83, 84, 85, 86, 87, 88, 89, 90, 91, 92, 93, 94, 95, 96, 97, 98, 99]\n",
      "100\n"
     ]
    },
    {
     "data": {
      "text/plain": [
       "31"
      ]
     },
     "execution_count": 26,
     "metadata": {},
     "output_type": "execute_result"
    }
   ],
   "source": [
    "# what if the list in sorted?, then we can search the element faster\n",
    "import math\n",
    "\n",
    "def binary_search(Arr, l, r ,x):\n",
    "    \n",
    "    #base case\n",
    "    if r >= l:\n",
    "        \n",
    "        mid = (l + r)//2\n",
    "        \n",
    "        #if the element is present\n",
    "        if Arr[mid] == x:\n",
    "            return mid\n",
    "        \n",
    "        elif Arr[mid] > x:\n",
    "            return binary_search(Arr, l , mid-1, x)\n",
    "        \n",
    "        else:\n",
    "            return binary_search(Arr, mid+1, r, x)\n",
    "    else:\n",
    "        return -1\n",
    "\n",
    "l.sort();\n",
    "print(l)\n",
    "print(len(l))\n",
    "Arr = l;\n",
    "q = 31;\n",
    "binary_search(Arr, 0, len(Arr)-1, q)\n"
   ]
  },
  {
   "cell_type": "code",
   "execution_count": 34,
   "id": "75f68f30",
   "metadata": {},
   "outputs": [
    {
     "name": "stdout",
     "output_type": "stream",
     "text": [
      "[37, 6, 0, 38, 47, 26, 17, 23, 36, 18, 34, 31, 20, 35, 27, 29, 43, 7, 4, 10, 11, 13, 22, 48, 3, 12, 25, 39, 16, 49, 40, 45, 21, 41, 28, 42, 24, 44, 32, 46, 2, 5, 9, 8, 1, 15, 19, 14, 33, 30]\n"
     ]
    }
   ],
   "source": [
    "#find the common element in the list using hashmap\n",
    "ll = list(range(100))\n",
    "random.shuffle(ll)\n",
    "\n",
    "l2 = list(range(50))\n",
    "random.shuffle(l2)\n",
    "\n",
    "smallList = {}\n",
    "for ele in l2:\n",
    "    smallList[ele] = 1\n",
    "    \n",
    "cnt = 0\n",
    "l3 = []\n",
    "for i in ll:\n",
    "    if smallList.get(i) != None:\n",
    "        l3.append(i);\n",
    "        \n",
    "\n",
    "print(l3)\n",
    "        "
   ]
  },
  {
   "cell_type": "code",
   "execution_count": null,
   "id": "50668d9c",
   "metadata": {},
   "outputs": [],
   "source": []
  }
 ],
 "metadata": {
  "kernelspec": {
   "display_name": "Python 3 (ipykernel)",
   "language": "python",
   "name": "python3"
  },
  "language_info": {
   "codemirror_mode": {
    "name": "ipython",
    "version": 3
   },
   "file_extension": ".py",
   "mimetype": "text/x-python",
   "name": "python",
   "nbconvert_exporter": "python",
   "pygments_lexer": "ipython3",
   "version": "3.8.10"
  }
 },
 "nbformat": 4,
 "nbformat_minor": 5
}
