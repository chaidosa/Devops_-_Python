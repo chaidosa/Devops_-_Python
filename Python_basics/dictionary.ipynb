{
  "nbformat": 4,
  "nbformat_minor": 0,
  "metadata": {
    "colab": {
      "name": "dictionary.ipynb",
      "provenance": [],
      "authorship_tag": "ABX9TyOkGPwJrzM97rjdfaY8Hnk8",
      "include_colab_link": true
    },
    "kernelspec": {
      "name": "python3",
      "display_name": "Python 3"
    },
    "language_info": {
      "name": "python"
    }
  },
  "cells": [
    {
      "cell_type": "markdown",
      "metadata": {
        "id": "view-in-github",
        "colab_type": "text"
      },
      "source": [
        "<a href=\"https://colab.research.google.com/github/priteshvermaa/Devops_-_Python/blob/master/dictionary.ipynb\" target=\"_parent\"><img src=\"https://colab.research.google.com/assets/colab-badge.svg\" alt=\"Open In Colab\"/></a>"
      ]
    },
    {
      "cell_type": "markdown",
      "source": [
        "#**Dictionary**\n",
        "Python dictionary is an unordered collection of items. While other compound data types have only values as an element, a dictionary has key:value pair."
      ],
      "metadata": {
        "id": "fnsI57MRul1-"
      }
    },
    {
      "cell_type": "markdown",
      "source": [
        "#**Dictionary Creation**"
      ],
      "metadata": {
        "id": "1NnYmRwTvAoI"
      }
    },
    {
      "cell_type": "code",
      "execution_count": 3,
      "metadata": {
        "colab": {
          "base_uri": "https://localhost:8080/"
        },
        "id": "DqEj8k2hp9wi",
        "outputId": "fd0558a8-71da-493e-8a66-121ce8b3753e"
      },
      "outputs": [
        {
          "output_type": "stream",
          "name": "stdout",
          "text": [
            "{1: 'abc', 2: 'xyz'}\n",
            "{'name': 'Pritesh', 1: ['abc', 'xyz']}\n",
            "{1: 'abc', 2: 'xyz'}\n"
          ]
        }
      ],
      "source": [
        "#empty dictionary\n",
        "my_dict = {}\n",
        "\n",
        "#dictionary with integer keys\n",
        "my_dict = {1: 'abc', 2:'xyz'}\n",
        "print(my_dict)\n",
        "\n",
        "#dictionary with mixed keys\n",
        "my_dict = {'name': 'Pritesh', 1: ['abc', 'xyz']}\n",
        "print(my_dict)\n",
        "\n",
        "#create empty dictionary using dict()\n",
        "my_dict = dict()\n",
        "\n",
        "my_dict = dict([(1, 'abc'), (2, 'xyz')]) #creating a dict with list of tuples\n",
        "print(my_dict)"
      ]
    },
    {
      "cell_type": "markdown",
      "source": [
        "#**Dict access**"
      ],
      "metadata": {
        "id": "YdIrPjUkxJoJ"
      }
    },
    {
      "cell_type": "code",
      "source": [
        "my_dict = {'name': 'Pritesh', 'age': 24, 'address': 'Rewa'} \n",
        "\n",
        "#get name\n",
        "print(my_dict['name'])"
      ],
      "metadata": {
        "colab": {
          "base_uri": "https://localhost:8080/"
        },
        "id": "cNx31fyhvUVv",
        "outputId": "256e00b0-7861-46b4-cbfb-f80f1440553a"
      },
      "execution_count": 6,
      "outputs": [
        {
          "output_type": "stream",
          "name": "stdout",
          "text": [
            "Pritesh\n"
          ]
        }
      ]
    },
    {
      "cell_type": "code",
      "source": [
        "# another way of accesing key\n",
        "print(my_dict.get('address'))"
      ],
      "metadata": {
        "colab": {
          "base_uri": "https://localhost:8080/"
        },
        "id": "6DxrX4uRxdYz",
        "outputId": "820f4861-cb20-4ab5-b41a-560a1ded4975"
      },
      "execution_count": 7,
      "outputs": [
        {
          "output_type": "stream",
          "name": "stdout",
          "text": [
            "Rewa\n"
          ]
        }
      ]
    },
    {
      "cell_type": "code",
      "source": [
        "#here we know that 'degree' doesn't exist so if we try and print it will give us error\n",
        "print(my_dict['degree'])"
      ],
      "metadata": {
        "colab": {
          "base_uri": "https://localhost:8080/",
          "height": 183
        },
        "id": "CTmPU6Gyx27C",
        "outputId": "cb8fa8a9-e54a-4dac-93ea-bf0c768716aa"
      },
      "execution_count": 8,
      "outputs": [
        {
          "output_type": "error",
          "ename": "KeyError",
          "evalue": "ignored",
          "traceback": [
            "\u001b[0;31m---------------------------------------------------------------------------\u001b[0m",
            "\u001b[0;31mKeyError\u001b[0m                                  Traceback (most recent call last)",
            "\u001b[0;32m<ipython-input-8-c0652c0560b2>\u001b[0m in \u001b[0;36m<module>\u001b[0;34m()\u001b[0m\n\u001b[1;32m      1\u001b[0m \u001b[0;31m#here we know that 'degree' doesn't exist so if we try and print it will give us error\u001b[0m\u001b[0;34m\u001b[0m\u001b[0;34m\u001b[0m\u001b[0;34m\u001b[0m\u001b[0m\n\u001b[0;32m----> 2\u001b[0;31m \u001b[0mprint\u001b[0m\u001b[0;34m(\u001b[0m\u001b[0mmy_dict\u001b[0m\u001b[0;34m[\u001b[0m\u001b[0;34m'degree'\u001b[0m\u001b[0;34m]\u001b[0m\u001b[0;34m)\u001b[0m\u001b[0;34m\u001b[0m\u001b[0;34m\u001b[0m\u001b[0m\n\u001b[0m",
            "\u001b[0;31mKeyError\u001b[0m: 'degree'"
          ]
        }
      ]
    },
    {
      "cell_type": "code",
      "source": [
        "#as you've seen above it gave us error but if we use .get it show none thats why we often use this \n",
        "print(my_dict.get('degree'))"
      ],
      "metadata": {
        "colab": {
          "base_uri": "https://localhost:8080/"
        },
        "id": "6gVKjubjyKqD",
        "outputId": "4805fece-1851-471a-beff-3c62004447ef"
      },
      "execution_count": 9,
      "outputs": [
        {
          "output_type": "stream",
          "name": "stdout",
          "text": [
            "None\n"
          ]
        }
      ]
    },
    {
      "cell_type": "markdown",
      "source": [
        "# Add and Modify elements in Dict"
      ],
      "metadata": {
        "id": "7Fcw_sZKydeI"
      }
    },
    {
      "cell_type": "code",
      "source": [
        "my_dict = {'name': 'Pritesh', 'age': 24, 'address': 'Rewa'} \n",
        "\n",
        "#update name\n",
        "my_dict['name'] = 'Swati'\n",
        "#upadate age\n",
        "my_dict['age'] = 20\n",
        "print(my_dict)"
      ],
      "metadata": {
        "colab": {
          "base_uri": "https://localhost:8080/"
        },
        "id": "kFTAPIa7yZ-O",
        "outputId": "a73419cc-3576-4a20-9cb3-24babcc68504"
      },
      "execution_count": 13,
      "outputs": [
        {
          "output_type": "stream",
          "name": "stdout",
          "text": [
            "{'name': 'Swati', 'age': 20, 'address': 'Rewa'}\n"
          ]
        }
      ]
    },
    {
      "cell_type": "code",
      "source": [
        "#add new key\n",
        "my_dict['degree'] = 'BBA'\n",
        "\n",
        "print(my_dict)"
      ],
      "metadata": {
        "colab": {
          "base_uri": "https://localhost:8080/"
        },
        "id": "m9TI0s15yx3G",
        "outputId": "e7556380-663c-47d5-ef6f-d58a236137cb"
      },
      "execution_count": 14,
      "outputs": [
        {
          "output_type": "stream",
          "name": "stdout",
          "text": [
            "{'name': 'Swati', 'age': 20, 'address': 'Rewa', 'degree': 'BBA'}\n"
          ]
        }
      ]
    },
    {
      "cell_type": "markdown",
      "source": [
        "# Delete or remove element"
      ],
      "metadata": {
        "id": "l05JWk5LzKxI"
      }
    },
    {
      "cell_type": "code",
      "source": [
        "my_dict = {'name': 'Pritesh', 'age': 24, 'address': 'Rewa'} \n",
        "\n",
        "#remove a particular item\n",
        "print(my_dict.pop('age'))\n",
        "\n",
        "print(my_dict)"
      ],
      "metadata": {
        "colab": {
          "base_uri": "https://localhost:8080/"
        },
        "id": "_xc0_umhy4IO",
        "outputId": "70f5d458-945f-402e-c9bf-2c23291a36f2"
      },
      "execution_count": 15,
      "outputs": [
        {
          "output_type": "stream",
          "name": "stdout",
          "text": [
            "24\n",
            "{'name': 'Pritesh', 'address': 'Rewa'}\n"
          ]
        }
      ]
    },
    {
      "cell_type": "code",
      "source": [
        "my_dict = {'name': 'Pritesh', 'age': 24, 'address': 'Rewa'} \n",
        "\n",
        "#remove an arbitrary key\n",
        "my_dict.popitem()\n",
        "\n",
        "print(my_dict)"
      ],
      "metadata": {
        "colab": {
          "base_uri": "https://localhost:8080/"
        },
        "id": "CzlQ5-0Izp2q",
        "outputId": "fce950f4-20d0-4178-fcb5-4e34b551c101"
      },
      "execution_count": 16,
      "outputs": [
        {
          "output_type": "stream",
          "name": "stdout",
          "text": [
            "{'name': 'Pritesh', 'age': 24}\n"
          ]
        }
      ]
    },
    {
      "cell_type": "code",
      "source": [
        "squares = {2:4, 3:9, 4:16, 5:25}\n",
        "print(squares)\n",
        "#delete particular key\n",
        "del squares[4]\n",
        "\n",
        "print(squares)\n",
        "\n",
        "#remove all items\n",
        "squares.clear()\n",
        "print(squares)"
      ],
      "metadata": {
        "colab": {
          "base_uri": "https://localhost:8080/"
        },
        "id": "xegheFk0z4L5",
        "outputId": "dbaa21f4-a024-4321-884c-c73931ef025c"
      },
      "execution_count": 18,
      "outputs": [
        {
          "output_type": "stream",
          "name": "stdout",
          "text": [
            "{2: 4, 3: 9, 4: 16, 5: 25}\n",
            "{2: 4, 3: 9, 5: 25}\n",
            "{}\n"
          ]
        }
      ]
    },
    {
      "cell_type": "code",
      "source": [
        "squares = {2:4, 3:9, 4:16, 5:25}\n",
        "\n",
        "#delete dictionary itself\n",
        "del squares\n",
        "\n",
        "print(squares) # NameError because dict is deleted"
      ],
      "metadata": {
        "colab": {
          "base_uri": "https://localhost:8080/",
          "height": 200
        },
        "id": "PviCNBjb0Nh6",
        "outputId": "be01e64c-8396-4b16-faa8-768c18721476"
      },
      "execution_count": 20,
      "outputs": [
        {
          "output_type": "error",
          "ename": "NameError",
          "evalue": "ignored",
          "traceback": [
            "\u001b[0;31m---------------------------------------------------------------------------\u001b[0m",
            "\u001b[0;31mNameError\u001b[0m                                 Traceback (most recent call last)",
            "\u001b[0;32m<ipython-input-20-338b3157ae93>\u001b[0m in \u001b[0;36m<module>\u001b[0;34m()\u001b[0m\n\u001b[1;32m      4\u001b[0m \u001b[0;32mdel\u001b[0m \u001b[0msquares\u001b[0m\u001b[0;34m\u001b[0m\u001b[0;34m\u001b[0m\u001b[0m\n\u001b[1;32m      5\u001b[0m \u001b[0;34m\u001b[0m\u001b[0m\n\u001b[0;32m----> 6\u001b[0;31m \u001b[0mprint\u001b[0m\u001b[0;34m(\u001b[0m\u001b[0msquares\u001b[0m\u001b[0;34m)\u001b[0m \u001b[0;31m# NameError because dict is deleted\u001b[0m\u001b[0;34m\u001b[0m\u001b[0;34m\u001b[0m\u001b[0m\n\u001b[0m",
            "\u001b[0;31mNameError\u001b[0m: name 'squares' is not defined"
          ]
        }
      ]
    },
    {
      "cell_type": "markdown",
      "source": [
        "#Dictionary methods\n",
        "\n"
      ],
      "metadata": {
        "id": "-g0X3wzC0tCQ"
      }
    },
    {
      "cell_type": "code",
      "source": [
        "squares = {2:4, 3:9, 4:16, 5:25}\n",
        "\n",
        "my_dict = squares.copy()\n",
        "print(my_dict)"
      ],
      "metadata": {
        "colab": {
          "base_uri": "https://localhost:8080/"
        },
        "id": "l1aYAV5t0hwC",
        "outputId": "266b418e-c4b7-40b3-a5b8-0e3414da28ba"
      },
      "execution_count": 21,
      "outputs": [
        {
          "output_type": "stream",
          "name": "stdout",
          "text": [
            "{2: 4, 3: 9, 4: 16, 5: 25}\n"
          ]
        }
      ]
    },
    {
      "cell_type": "code",
      "source": [
        "# fromkeys(seq, v) -> Return a new dictionary with keys from seq and values assigned to all is v.\n",
        "# Note: seq is list of keys\n",
        "\n",
        "seq = ['Math', 'English', 'Hindi']\n",
        "v = 0\n",
        "\n",
        "subjects = {}.fromkeys(seq, v)\n",
        "print(subjects)"
      ],
      "metadata": {
        "colab": {
          "base_uri": "https://localhost:8080/"
        },
        "id": "VtclSv3I04_n",
        "outputId": "992e5095-8a88-43d2-8da0-3246342fe37f"
      },
      "execution_count": 22,
      "outputs": [
        {
          "output_type": "stream",
          "name": "stdout",
          "text": [
            "{'Math': 0, 'English': 0, 'Hindi': 0}\n"
          ]
        }
      ]
    },
    {
      "cell_type": "code",
      "source": [
        "#above methods can be done in compact way\n",
        "subjects = {}.fromkeys(['Math', 'English', 'Hindi'], 0)\n",
        "print(subjects)"
      ],
      "metadata": {
        "colab": {
          "base_uri": "https://localhost:8080/"
        },
        "id": "rXWy6pua1y1y",
        "outputId": "ffe5521d-ea6f-4281-aceb-22cf755959f0"
      },
      "execution_count": 23,
      "outputs": [
        {
          "output_type": "stream",
          "name": "stdout",
          "text": [
            "{'Math': 0, 'English': 0, 'Hindi': 0}\n"
          ]
        }
      ]
    },
    {
      "cell_type": "code",
      "source": [
        "squares = {2:4, 3:9, 4:16, 5:25}\n",
        "print(squares.items()) #return a new view of the dictionary items (key, value), list of tuple"
      ],
      "metadata": {
        "colab": {
          "base_uri": "https://localhost:8080/"
        },
        "id": "XFberwPA2CXB",
        "outputId": "6e53d7fe-2e63-40ec-b8e4-9538ceb77c09"
      },
      "execution_count": 24,
      "outputs": [
        {
          "output_type": "stream",
          "name": "stdout",
          "text": [
            "dict_items([(2, 4), (3, 9), (4, 16), (5, 25)])\n"
          ]
        }
      ]
    },
    {
      "cell_type": "code",
      "source": [
        "squares = {2:4, 3:9, 4:16, 5:25}\n",
        "print(squares.values()) #returns only values"
      ],
      "metadata": {
        "colab": {
          "base_uri": "https://localhost:8080/"
        },
        "id": "gNaTEs212oRE",
        "outputId": "afbdffce-c859-4ac6-9a06-05bfcdb1a6c4"
      },
      "execution_count": 26,
      "outputs": [
        {
          "output_type": "stream",
          "name": "stdout",
          "text": [
            "dict_values([4, 9, 16, 25])\n"
          ]
        }
      ]
    },
    {
      "cell_type": "code",
      "source": [
        "squares = {2:4, 3:9, 4:16, 5:25}\n",
        "print(squares.keys()) #return only keys\n"
      ],
      "metadata": {
        "colab": {
          "base_uri": "https://localhost:8080/"
        },
        "id": "g_vAH7gJ2ueN",
        "outputId": "b40be42a-d88b-4f0b-8ec5-6e555c11b569"
      },
      "execution_count": 31,
      "outputs": [
        {
          "output_type": "stream",
          "name": "stdout",
          "text": [
            "dict_keys([2, 3, 4, 5])\n"
          ]
        }
      ]
    },
    {
      "cell_type": "code",
      "source": [
        "# get list of all available methods and attributes of dictionary\n",
        "d = {}\n",
        "print(dir(d))"
      ],
      "metadata": {
        "colab": {
          "base_uri": "https://localhost:8080/"
        },
        "id": "yrLFFM1S23is",
        "outputId": "617aead2-6382-4425-f6de-68bbab94f975"
      },
      "execution_count": 32,
      "outputs": [
        {
          "output_type": "stream",
          "name": "stdout",
          "text": [
            "['__class__', '__contains__', '__delattr__', '__delitem__', '__dir__', '__doc__', '__eq__', '__format__', '__ge__', '__getattribute__', '__getitem__', '__gt__', '__hash__', '__init__', '__init_subclass__', '__iter__', '__le__', '__len__', '__lt__', '__ne__', '__new__', '__reduce__', '__reduce_ex__', '__repr__', '__setattr__', '__setitem__', '__sizeof__', '__str__', '__subclasshook__', 'clear', 'copy', 'fromkeys', 'get', 'items', 'keys', 'pop', 'popitem', 'setdefault', 'update', 'values']\n"
          ]
        }
      ]
    },
    {
      "cell_type": "markdown",
      "source": [
        "# **Dictionary Comprehension**"
      ],
      "metadata": {
        "id": "-ynXNqTZ3kjc"
      }
    },
    {
      "cell_type": "code",
      "source": [
        "# Dict comprehensions are just like list comprehensions but for dictionaries\n",
        "\n",
        "d = {'a': 1, 'b': 2, 'c': 3}\n",
        "for pair in d.items():\n",
        "  print(pair)"
      ],
      "metadata": {
        "colab": {
          "base_uri": "https://localhost:8080/"
        },
        "id": "qtoLlM2u3QrR",
        "outputId": "3eea8fa2-bd59-4b4f-dde4-ca6aa576f53c"
      },
      "execution_count": 33,
      "outputs": [
        {
          "output_type": "stream",
          "name": "stdout",
          "text": [
            "('a', 1)\n",
            "('b', 2)\n",
            "('c', 3)\n"
          ]
        }
      ]
    },
    {
      "cell_type": "code",
      "source": [
        "# create a new dictionary with only pairs where the value is larger than 2\n",
        "d = {'a':1, 'b':2, 'c':3, 'd':4}\n",
        "new_dict = {k:v for k,v in d.items() if v > 2}\n",
        "print(new_dict)\n"
      ],
      "metadata": {
        "colab": {
          "base_uri": "https://localhost:8080/"
        },
        "id": "y1dWWJl037s3",
        "outputId": "71b76416-a1cc-43f1-fece-bdcf8e4175b0"
      },
      "execution_count": 35,
      "outputs": [
        {
          "output_type": "stream",
          "name": "stdout",
          "text": [
            "{'c': 3, 'd': 4}\n"
          ]
        }
      ]
    },
    {
      "cell_type": "code",
      "source": [
        "# We can also perform operations on the key value pairs\n",
        "d = {'a':1, 'b':2, 'c':3, 'd':4, 'e':5}\n",
        "d = {k + 'c':v * 2 for k, v in d.items() if v > 2}\n",
        "print(d)"
      ],
      "metadata": {
        "colab": {
          "base_uri": "https://localhost:8080/"
        },
        "id": "yKvsfQdt4Ygw",
        "outputId": "b0f9f670-c9f1-405b-b691-b8ff1081e982"
      },
      "execution_count": 36,
      "outputs": [
        {
          "output_type": "stream",
          "name": "stdout",
          "text": [
            "{'cc': 6, 'dc': 8, 'ec': 10}\n"
          ]
        }
      ]
    },
    {
      "cell_type": "code",
      "source": [
        ""
      ],
      "metadata": {
        "id": "F0ypWmhG5Up1"
      },
      "execution_count": null,
      "outputs": []
    }
  ]
}