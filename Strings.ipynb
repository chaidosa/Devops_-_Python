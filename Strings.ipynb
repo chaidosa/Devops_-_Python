{
  "nbformat": 4,
  "nbformat_minor": 0,
  "metadata": {
    "colab": {
      "name": "Strings.ipynb",
      "provenance": [],
      "authorship_tag": "ABX9TyOf8ee1qsr5++8Zw8Cra2zQ",
      "include_colab_link": true
    },
    "kernelspec": {
      "name": "python3",
      "display_name": "Python 3"
    },
    "language_info": {
      "name": "python"
    }
  },
  "cells": [
    {
      "cell_type": "markdown",
      "metadata": {
        "id": "view-in-github",
        "colab_type": "text"
      },
      "source": [
        "<a href=\"https://colab.research.google.com/github/priteshvermaa/Devops_-_Python/blob/master/Strings.ipynb\" target=\"_parent\"><img src=\"https://colab.research.google.com/assets/colab-badge.svg\" alt=\"Open In Colab\"/></a>"
      ]
    },
    {
      "cell_type": "markdown",
      "source": [
        "# **Strings**\n",
        "\n",
        "A string is a sequence of characters.\n",
        "\n",
        "computers do not deal with characters, they deal with numbers (binary). Even though you may see characters on your screen, internally it is stored and manipulated as a combination of 0's and 1's.\n",
        "\n",
        "This conversion of characters to a number is called encoding, and the reverse process is decoding. ASCII and unicode  are some of the popular encoding used.\n",
        "\n",
        "In Python, string is a sequence of Unicode character."
      ],
      "metadata": {
        "id": "nd9_PgGl8Mgh"
      }
    },
    {
      "cell_type": "code",
      "execution_count": 1,
      "metadata": {
        "colab": {
          "base_uri": "https://localhost:8080/"
        },
        "id": "ai8A0ISH8Eza",
        "outputId": "f1122f85-b422-4950-ef13-0ae59d613a0f"
      },
      "outputs": [
        {
          "output_type": "stream",
          "name": "stdout",
          "text": [
            "Hello\n",
            "Hello\n",
            "Hello\n"
          ]
        }
      ],
      "source": [
        "myString = 'Hello'\n",
        "\n",
        "print(myString)\n",
        "\n",
        "myString = \"Hello\"\n",
        "print(myString)\n",
        "\n",
        "myString = '''Hello''' #typically use for multiline\n",
        "print(myString)"
      ]
    },
    {
      "cell_type": "markdown",
      "source": [
        "# HOw to acess character in String"
      ],
      "metadata": {
        "id": "yyTdTulp9srw"
      }
    },
    {
      "cell_type": "code",
      "source": [
        "myString = \"Hello\"\n",
        "\n",
        "#print first character\n",
        "print(myString[0])\n",
        "\n",
        "#print last character\n",
        "print(myString[-1])\n",
        "\n",
        "#Slicing 2nd and 5th character\n",
        "print(myString[2:5])"
      ],
      "metadata": {
        "colab": {
          "base_uri": "https://localhost:8080/"
        },
        "id": "_nJskdgo9rXZ",
        "outputId": "ea529d87-2cc4-4445-ca2f-7b7cb6158459"
      },
      "execution_count": 3,
      "outputs": [
        {
          "output_type": "stream",
          "name": "stdout",
          "text": [
            "H\n",
            "o\n",
            "llo\n"
          ]
        }
      ]
    },
    {
      "cell_type": "markdown",
      "source": [
        "if try to access index out of the range or use decimal number, we will get errors"
      ],
      "metadata": {
        "id": "JpuFi3CA-OOA"
      }
    },
    {
      "cell_type": "code",
      "source": [
        "print(myString[13])"
      ],
      "metadata": {
        "colab": {
          "base_uri": "https://localhost:8080/",
          "height": 165
        },
        "id": "xjp0BHJn94Z5",
        "outputId": "c9ad3222-319e-44da-fbda-6ba32a210f3f"
      },
      "execution_count": 4,
      "outputs": [
        {
          "output_type": "error",
          "ename": "IndexError",
          "evalue": "ignored",
          "traceback": [
            "\u001b[0;31m---------------------------------------------------------------------------\u001b[0m",
            "\u001b[0;31mIndexError\u001b[0m                                Traceback (most recent call last)",
            "\u001b[0;32m<ipython-input-4-bd05d549cbbe>\u001b[0m in \u001b[0;36m<module>\u001b[0;34m()\u001b[0m\n\u001b[0;32m----> 1\u001b[0;31m \u001b[0mprint\u001b[0m\u001b[0;34m(\u001b[0m\u001b[0mmyString\u001b[0m\u001b[0;34m[\u001b[0m\u001b[0;36m13\u001b[0m\u001b[0;34m]\u001b[0m\u001b[0;34m)\u001b[0m\u001b[0;34m\u001b[0m\u001b[0;34m\u001b[0m\u001b[0m\n\u001b[0m",
            "\u001b[0;31mIndexError\u001b[0m: string index out of range"
          ]
        }
      ]
    },
    {
      "cell_type": "markdown",
      "source": [
        "# How to change or delete a string\n",
        "string are immutable. This means that elements of a string cannot be changed once it has been assigned.\n",
        "\n",
        "We can simply reassign different strings to the same"
      ],
      "metadata": {
        "id": "dLWv3Z_A-3uP"
      }
    },
    {
      "cell_type": "code",
      "source": [
        "myString = \"Hello\"\n",
        "\n",
        "myString[4] = 'P' #strings are immutable it throw error"
      ],
      "metadata": {
        "colab": {
          "base_uri": "https://localhost:8080/",
          "height": 200
        },
        "id": "dkWLbZzT-avB",
        "outputId": "03802286-2f54-4c43-8c84-5b84ade95490"
      },
      "execution_count": 5,
      "outputs": [
        {
          "output_type": "error",
          "ename": "TypeError",
          "evalue": "ignored",
          "traceback": [
            "\u001b[0;31m---------------------------------------------------------------------------\u001b[0m",
            "\u001b[0;31mTypeError\u001b[0m                                 Traceback (most recent call last)",
            "\u001b[0;32m<ipython-input-5-db8c388ab88e>\u001b[0m in \u001b[0;36m<module>\u001b[0;34m()\u001b[0m\n\u001b[1;32m      1\u001b[0m \u001b[0mmyString\u001b[0m \u001b[0;34m=\u001b[0m \u001b[0;34m\"Hello\"\u001b[0m\u001b[0;34m\u001b[0m\u001b[0;34m\u001b[0m\u001b[0m\n\u001b[1;32m      2\u001b[0m \u001b[0;34m\u001b[0m\u001b[0m\n\u001b[0;32m----> 3\u001b[0;31m \u001b[0mmyString\u001b[0m\u001b[0;34m[\u001b[0m\u001b[0;36m4\u001b[0m\u001b[0;34m]\u001b[0m \u001b[0;34m=\u001b[0m \u001b[0;34m'P'\u001b[0m \u001b[0;31m#strings are immutable it throw error\u001b[0m\u001b[0;34m\u001b[0m\u001b[0;34m\u001b[0m\u001b[0m\n\u001b[0m",
            "\u001b[0;31mTypeError\u001b[0m: 'str' object does not support item assignment"
          ]
        }
      ]
    },
    {
      "cell_type": "markdown",
      "source": [
        "We cannot delete or remove characters from a string. But deleting the string entirely is possible using keyword delete"
      ],
      "metadata": {
        "id": "J73hqfkBABM6"
      }
    },
    {
      "cell_type": "code",
      "source": [
        "del myString # delete complete string"
      ],
      "metadata": {
        "id": "bndxDY2K_w6z"
      },
      "execution_count": 7,
      "outputs": []
    },
    {
      "cell_type": "code",
      "source": [
        "print(myString)"
      ],
      "metadata": {
        "colab": {
          "base_uri": "https://localhost:8080/",
          "height": 165
        },
        "id": "qM9Nrv-nASi2",
        "outputId": "427cedbb-e771-448c-a3ce-6d0ce7fccf54"
      },
      "execution_count": 8,
      "outputs": [
        {
          "output_type": "error",
          "ename": "NameError",
          "evalue": "ignored",
          "traceback": [
            "\u001b[0;31m---------------------------------------------------------------------------\u001b[0m",
            "\u001b[0;31mNameError\u001b[0m                                 Traceback (most recent call last)",
            "\u001b[0;32m<ipython-input-8-13235c81a0c6>\u001b[0m in \u001b[0;36m<module>\u001b[0;34m()\u001b[0m\n\u001b[0;32m----> 1\u001b[0;31m \u001b[0mprint\u001b[0m\u001b[0;34m(\u001b[0m\u001b[0mmyString\u001b[0m\u001b[0;34m)\u001b[0m\u001b[0;34m\u001b[0m\u001b[0;34m\u001b[0m\u001b[0m\n\u001b[0m",
            "\u001b[0;31mNameError\u001b[0m: name 'myString' is not defined"
          ]
        }
      ]
    },
    {
      "cell_type": "markdown",
      "source": [
        "#String Operations"
      ],
      "metadata": {
        "id": "JVazZNpPAdqk"
      }
    },
    {
      "cell_type": "code",
      "source": [
        "#concatenation\n",
        "\n",
        "s1 = \"Pritesh \"\n",
        "s2 = \"Verma\"\n",
        "\n",
        "#concatination of 2 strings\n",
        "print(s1 + s2)\n",
        "\n",
        "#repeat string n times\n",
        "print(4 * s1)"
      ],
      "metadata": {
        "colab": {
          "base_uri": "https://localhost:8080/"
        },
        "id": "xcekXhdtAXuv",
        "outputId": "d2027a02-b9b1-4725-8536-ca5fbc069aa1"
      },
      "execution_count": 10,
      "outputs": [
        {
          "output_type": "stream",
          "name": "stdout",
          "text": [
            "Pritesh Verma\n",
            "Pritesh Pritesh Pritesh Pritesh \n"
          ]
        }
      ]
    },
    {
      "cell_type": "markdown",
      "source": [
        "# Iterating through String"
      ],
      "metadata": {
        "id": "ghbB0SNhA7E9"
      }
    },
    {
      "cell_type": "code",
      "source": [
        "count = 0\n",
        "for l in \"Pritesh Verma\":\n",
        "  if l == 'e':\n",
        "    count += 1\n",
        "print(count, 'Letters found')\n"
      ],
      "metadata": {
        "colab": {
          "base_uri": "https://localhost:8080/"
        },
        "id": "ZXGo8LwbAvN6",
        "outputId": "70e7cda4-5d18-4fbb-824f-d9097f564872"
      },
      "execution_count": 11,
      "outputs": [
        {
          "output_type": "stream",
          "name": "stdout",
          "text": [
            "2 Letters found\n"
          ]
        }
      ]
    },
    {
      "cell_type": "markdown",
      "source": [
        "# String membership test"
      ],
      "metadata": {
        "id": "ZDKIMbXzBbax"
      }
    },
    {
      "cell_type": "code",
      "source": [
        "print('s' in \"Pritesh\") #in operator to test membership"
      ],
      "metadata": {
        "colab": {
          "base_uri": "https://localhost:8080/"
        },
        "id": "EaVE5viqBZYZ",
        "outputId": "ebe1f66c-5efd-4691-dcb5-0b7e3a984e5c"
      },
      "execution_count": 12,
      "outputs": [
        {
          "output_type": "stream",
          "name": "stdout",
          "text": [
            "True\n"
          ]
        }
      ]
    },
    {
      "cell_type": "code",
      "source": [
        "print('or' in 'Pritesh or Verma')"
      ],
      "metadata": {
        "colab": {
          "base_uri": "https://localhost:8080/"
        },
        "id": "iA2N78uoBnJx",
        "outputId": "4e5e9d7b-ec8d-4bda-80dd-8ccb46a26b12"
      },
      "execution_count": 13,
      "outputs": [
        {
          "output_type": "stream",
          "name": "stdout",
          "text": [
            "True\n"
          ]
        }
      ]
    },
    {
      "cell_type": "markdown",
      "source": [
        "# String method"
      ],
      "metadata": {
        "id": "u5rEKv7eB0lh"
      }
    },
    {
      "cell_type": "code",
      "source": [
        "\"Pritesh\".lower()"
      ],
      "metadata": {
        "colab": {
          "base_uri": "https://localhost:8080/",
          "height": 35
        },
        "id": "1cbDPFmtBssZ",
        "outputId": "d58a0bb5-eafb-4c18-ef2c-173e565293a2"
      },
      "execution_count": 14,
      "outputs": [
        {
          "output_type": "execute_result",
          "data": {
            "application/vnd.google.colaboratory.intrinsic+json": {
              "type": "string"
            },
            "text/plain": [
              "'pritesh'"
            ]
          },
          "metadata": {},
          "execution_count": 14
        }
      ]
    },
    {
      "cell_type": "code",
      "source": [
        "\"Pritesh\".upper()"
      ],
      "metadata": {
        "colab": {
          "base_uri": "https://localhost:8080/",
          "height": 35
        },
        "id": "4TThu_qeB58n",
        "outputId": "54d1e1f3-096c-4568-e162-3f80a69500ee"
      },
      "execution_count": 16,
      "outputs": [
        {
          "output_type": "execute_result",
          "data": {
            "application/vnd.google.colaboratory.intrinsic+json": {
              "type": "string"
            },
            "text/plain": [
              "'PRITESH'"
            ]
          },
          "metadata": {},
          "execution_count": 16
        }
      ]
    },
    {
      "cell_type": "code",
      "source": [
        "\"This will split all words in a list\".split()"
      ],
      "metadata": {
        "colab": {
          "base_uri": "https://localhost:8080/"
        },
        "id": "CKhwk2fhB8vW",
        "outputId": "29af3c84-d870-4971-b6fa-bf954e4e7f03"
      },
      "execution_count": 18,
      "outputs": [
        {
          "output_type": "execute_result",
          "data": {
            "text/plain": [
              "['This', 'will', 'split', 'all', 'words', 'in', 'a', 'list']"
            ]
          },
          "metadata": {},
          "execution_count": 18
        }
      ]
    },
    {
      "cell_type": "code",
      "source": [
        "' '.join(['This', 'will', 'Join', 'all'])\n",
        "','.join(['This', 'will', 'Join', 'all'])"
      ],
      "metadata": {
        "colab": {
          "base_uri": "https://localhost:8080/",
          "height": 35
        },
        "id": "QvGCJbgWCDBc",
        "outputId": "31102b58-0442-453d-f367-db6daceda2a0"
      },
      "execution_count": 22,
      "outputs": [
        {
          "output_type": "execute_result",
          "data": {
            "application/vnd.google.colaboratory.intrinsic+json": {
              "type": "string"
            },
            "text/plain": [
              "'This,will,Join,all'"
            ]
          },
          "metadata": {},
          "execution_count": 22
        }
      ]
    },
    {
      "cell_type": "code",
      "source": [
        "\"Dharwad\".find('wa')"
      ],
      "metadata": {
        "colab": {
          "base_uri": "https://localhost:8080/"
        },
        "id": "pvLDv3-8CVBZ",
        "outputId": "5071c06c-26d7-4c37-e72f-832a6506bffb"
      },
      "execution_count": 24,
      "outputs": [
        {
          "output_type": "execute_result",
          "data": {
            "text/plain": [
              "4"
            ]
          },
          "metadata": {},
          "execution_count": 24
        }
      ]
    },
    {
      "cell_type": "code",
      "source": [
        "\"Pritesh Verma\".replace(\"Pritesh\", \"Swati\")"
      ],
      "metadata": {
        "colab": {
          "base_uri": "https://localhost:8080/",
          "height": 35
        },
        "id": "LeeojYobClaR",
        "outputId": "927e0033-7c06-4616-bc77-663e94d171db"
      },
      "execution_count": 25,
      "outputs": [
        {
          "output_type": "execute_result",
          "data": {
            "application/vnd.google.colaboratory.intrinsic+json": {
              "type": "string"
            },
            "text/plain": [
              "'Swati Verma'"
            ]
          },
          "metadata": {},
          "execution_count": 25
        }
      ]
    },
    {
      "cell_type": "markdown",
      "source": [
        "#Python Program to check where a string is palindrome or not ?"
      ],
      "metadata": {
        "id": "EYE8YBzSCyvH"
      }
    },
    {
      "cell_type": "code",
      "source": [
        "myStr = \"NitiN\"\n",
        "\n",
        "#convert entire string to lower or upper\n",
        "myStr = myStr.lower()\n",
        "\n",
        "#reverse string\n",
        "revStr = reversed(myStr)\n",
        "\n",
        "#check if the string is equal to its revers\n",
        "if list(myStr) == list(revStr):\n",
        "  print(\"Palindrome\")\n",
        "else:\n",
        "  print(\"Not palindrome\")\n",
        "\n",
        "print(list(myStr))"
      ],
      "metadata": {
        "colab": {
          "base_uri": "https://localhost:8080/"
        },
        "id": "Yf0UtygsCw17",
        "outputId": "57578b6c-70c5-414c-bee2-f2fed6398356"
      },
      "execution_count": 31,
      "outputs": [
        {
          "output_type": "stream",
          "name": "stdout",
          "text": [
            "Palindrome\n",
            "['n', 'i', 't', 'i', 'n']\n"
          ]
        }
      ]
    },
    {
      "cell_type": "markdown",
      "source": [
        "# Python program to sort words in alphabetic order"
      ],
      "metadata": {
        "id": "FfBIO-iQEhaH"
      }
    },
    {
      "cell_type": "code",
      "source": [
        "myStr = \"Python program to sort words in alphabetic order\"\n",
        "\n",
        "#breakdown the string into list of words\n",
        "words = myStr.split()\n",
        "\n",
        "#sort the list\n",
        "words.sort()\n",
        "\n",
        "#print sorted words are\n",
        "for word in words:\n",
        "  print(word)"
      ],
      "metadata": {
        "colab": {
          "base_uri": "https://localhost:8080/"
        },
        "id": "j9iF-y4RDx8Z",
        "outputId": "38e58af5-d3f7-42eb-c0cb-dd8c3b0c9fd7"
      },
      "execution_count": 32,
      "outputs": [
        {
          "output_type": "stream",
          "name": "stdout",
          "text": [
            "Python\n",
            "alphabetic\n",
            "in\n",
            "order\n",
            "program\n",
            "sort\n",
            "to\n",
            "words\n"
          ]
        }
      ]
    },
    {
      "cell_type": "code",
      "source": [
        ""
      ],
      "metadata": {
        "id": "ZIzFbFTeE_bg"
      },
      "execution_count": null,
      "outputs": []
    }
  ]
}